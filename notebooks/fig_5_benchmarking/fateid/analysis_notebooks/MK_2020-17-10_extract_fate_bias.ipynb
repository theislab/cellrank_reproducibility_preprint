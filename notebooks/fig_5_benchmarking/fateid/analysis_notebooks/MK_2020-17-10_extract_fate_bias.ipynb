{
 "cells": [
  {
   "cell_type": "markdown",
   "metadata": {},
   "source": [
    "Fig. 5: Benchmark FateID\n",
    "----\n",
    "\n",
    "In this notebook, we extract FateID's fate biases and smoothed expression."
   ]
  },
  {
   "cell_type": "markdown",
   "metadata": {
    "hidePrompt": true
   },
   "source": [
    "# Preliminaries"
   ]
  },
  {
   "cell_type": "markdown",
   "metadata": {},
   "source": [
    "## Import packages"
   ]
  },
  {
   "cell_type": "code",
   "execution_count": 1,
   "metadata": {
    "ExecuteTime": {
     "end_time": "2020-10-17T19:34:17.333711Z",
     "start_time": "2020-10-17T19:34:10.514653Z"
    },
    "hidePrompt": true
   },
   "outputs": [],
   "source": [
    "# import standard packages\n",
    "import numpy as np\n",
    "from rpy2.robjects import ListVector\n",
    "\n",
    "import os\n",
    "import sys\n",
    "\n",
    "# import single-cell packages\n",
    "import cellrank as cr\n",
    "import anndata2ri\n",
    "\n",
    "# set verbosity levels\n",
    "cr.settings.verbosity = 2\n",
    "\n",
    "anndata2ri.activate()\n",
    "%load_ext rpy2.ipython"
   ]
  },
  {
   "cell_type": "code",
   "execution_count": 2,
   "metadata": {
    "ExecuteTime": {
     "end_time": "2020-10-17T19:34:34.456657Z",
     "start_time": "2020-10-17T19:34:19.045115Z"
    }
   },
   "outputs": [
    {
     "name": "stderr",
     "output_type": "stream",
     "text": [
      "R[write to console]: \n",
      "Attaching package: ‘FateID’\n",
      "\n",
      "\n",
      "R[write to console]: The following objects are masked from ‘package:RaceID’:\n",
      "\n",
      "    diffexpnb, plotdiffgenesnb\n",
      "\n",
      "\n"
     ]
    }
   ],
   "source": [
    "%%R\n",
    "library(RaceID)\n",
    "library(FateID)\n",
    "library(destiny)"
   ]
  },
  {
   "cell_type": "markdown",
   "metadata": {},
   "source": [
    "## Print package versions for reproducibility"
   ]
  },
  {
   "cell_type": "markdown",
   "metadata": {},
   "source": [
    "If you want to exactly reproduce the results shown here, please make sure that your package versions match what is printed below. "
   ]
  },
  {
   "cell_type": "code",
   "execution_count": 3,
   "metadata": {
    "ExecuteTime": {
     "end_time": "2020-10-17T19:34:36.293338Z",
     "start_time": "2020-10-17T19:34:36.149265Z"
    }
   },
   "outputs": [
    {
     "name": "stdout",
     "output_type": "stream",
     "text": [
      "cellrank==1.0.0-rc.12 scanpy==1.6.0 anndata==0.7.4 numpy==1.19.2 numba==0.51.2 scipy==1.5.2 pandas==1.1.3 scikit-learn==0.23.2 statsmodels==0.12.0 python-igraph==0.8.2 scvelo==0.2.2 pygam==0.8.0 matplotlib==3.3.2 seaborn==0.11.0\n"
     ]
    }
   ],
   "source": [
    "cr.logging.print_versions()"
   ]
  },
  {
   "cell_type": "code",
   "execution_count": 4,
   "metadata": {
    "ExecuteTime": {
     "end_time": "2020-10-17T19:34:36.412399Z",
     "start_time": "2020-10-17T19:34:36.394359Z"
    }
   },
   "outputs": [
    {
     "name": "stdout",
     "output_type": "stream",
     "text": [
      "[1] ‘0.2.2’\n",
      "[1] ‘0.1.9’\n"
     ]
    }
   ],
   "source": [
    "%%R\n",
    "print(packageVersion(\"RaceID\"))\n",
    "print(packageVersion(\"FateID\"))"
   ]
  },
  {
   "cell_type": "markdown",
   "metadata": {},
   "source": [
    "## Set up paths"
   ]
  },
  {
   "cell_type": "markdown",
   "metadata": {},
   "source": [
    "Define the paths to load data, cache results and write figure panels."
   ]
  },
  {
   "cell_type": "code",
   "execution_count": 5,
   "metadata": {
    "ExecuteTime": {
     "end_time": "2020-10-17T19:34:37.517792Z",
     "start_time": "2020-10-17T19:34:37.512611Z"
    }
   },
   "outputs": [],
   "source": [
    "sys.path.insert(0, \"../../../../\")  # this depends on the notebook depth and must be adapted per notebook\n",
    "\n",
    "from paths import DATA_DIR, CACHE_DIR, FIG_DIR"
   ]
  },
  {
   "cell_type": "markdown",
   "metadata": {},
   "source": [
    "## Set global parameters"
   ]
  },
  {
   "cell_type": "code",
   "execution_count": 6,
   "metadata": {
    "ExecuteTime": {
     "end_time": "2020-10-17T19:34:37.784372Z",
     "start_time": "2020-10-17T19:34:37.781177Z"
    }
   },
   "outputs": [],
   "source": [
    "root = str(DATA_DIR / \"benchmarking\" / \"fateid\")"
   ]
  },
  {
   "cell_type": "markdown",
   "metadata": {},
   "source": [
    "## Define utility functions"
   ]
  },
  {
   "cell_type": "code",
   "execution_count": 7,
   "metadata": {
    "ExecuteTime": {
     "end_time": "2020-10-17T19:34:38.044687Z",
     "start_time": "2020-10-17T19:34:38.023061Z"
    }
   },
   "outputs": [],
   "source": [
    "%%R\n",
    "# copy of plotexpressionProfile which extracts the LOESSed expression\n",
    "extractData <- function (x, y, g, n, logsc = FALSE, col = NULL, name = NULL, cluster = FALSE, alpha = 0.5, lwd = 1, ylim = NULL){\n",
    "    \n",
    "    if ( logsc ){\n",
    "        if ( min(x) == 0 ) x <- x + .1\n",
    "        x <- x/apply(x,1,sum)\n",
    "        x <- log2(x)\n",
    "    }else{\n",
    "        x <- x/apply(x,1,sum)\n",
    "    }\n",
    "    \n",
    "    cl <- unique(y[n])\n",
    "    set.seed(111111)\n",
    "    if (is.null(col)) col <- sample(rainbow(length(n)))\n",
    "    xlim <- c(1, length(n))\n",
    "    z  <- x[g, n]\n",
    "    zc <- z\n",
    "    u <- 1:length(n)\n",
    "       \n",
    "    for ( i in 1:nrow(z) ){\n",
    "        v <- as.vector(t(z[i,]))\n",
    "        k <- predict(loess(v ~ u, span = alpha))\n",
    "        if ( ! logsc ) k[k < 0] <- 0\n",
    "        zc[i,] <- k\n",
    "    }\n",
    "    \n",
    "    return(zc)\n",
    "}\n",
    "\n",
    "dptTraj <- function(x,y,fb,root_idxs,trthr=NULL,distance=\"euclidean\",sigma=1000,...){\n",
    "  trc <- list()\n",
    "  pts <- list()  \n",
    "  for ( j in colnames(fb$probs) ){\n",
    "    if ( ! is.null(trthr) ){\n",
    "      probs <- fb$probs\n",
    "      n  <- rownames(probs)[probs[,j] > trthr]\n",
    "    }else{\n",
    "      votes <- fb$votes\n",
    "      b <- bias(votes)\n",
    "      n  <- rownames(votes)[b$bias[,j] > 1 & b$pv < .05]\n",
    "    }\n",
    "    dm <- destiny::DiffusionMap(as.matrix(t(x[,n])),distance=distance,sigma=sigma,...)\n",
    "    root_idx <- root_idxs[[j]]\n",
    "    pt <- destiny::DPT(dm, root_idx)\n",
    "    pto <- pt[root_idx, ]\n",
    "    \n",
    "    #b <- pt@branch[, 1]\n",
    "    #tip_idx <- which(b==1 & !is.na(b) & pt@tips[, 1])\n",
    "    #pto <- pt[tip_idx, ]\n",
    "    \n",
    "    od <- order(pto,decreasing=FALSE)\n",
    "    n <- n[od]\n",
    "\n",
    "    #ts <- Transitions(as.matrix(t(x[,n])),distance=distance,sigma=sigma,...)\n",
    "    #pt <- dpt::dpt(ts, branching = FALSE)\n",
    "    #n <- n[order(pt$DPT,decreasing=FALSE)]\n",
    "  \n",
    "    if ( median((1:length(n))[y[n] == sub(\"t\",\"\",j)]) < median((1:length(n))[y[n] != sub(\"t\",\"\",j)]) ) {\n",
    "        n <- rev(n)\n",
    "        od <- rev(od)\n",
    "    }\n",
    "    trc[[j]] <- n\n",
    "    pts[[j]] <- pto[od]\n",
    "  }\n",
    "  return(list(trc=trc,pts=pts))\n",
    "}\n",
    "\n",
    "# reason:\n",
    "# Error in bias(votes) : could not find function \"bias\"\n",
    "bias <- function(tvn){\n",
    "  bias <- tvn/apply(tvn,1,function(x) x[order(x,decreasing=TRUE)][2] + 1e-3)\n",
    "  pv <- apply(tvn,1,function(x){ h <- x[order(x,decreasing=TRUE)][1];  l <- x[order(x,decreasing=TRUE)][2]; binom.test( c(h, l), alternative=\"t\" )$p.value})\n",
    "  return(list(bias=bias,pv=pv))\n",
    "}"
   ]
  },
  {
   "cell_type": "markdown",
   "metadata": {},
   "source": [
    "## Load the data"
   ]
  },
  {
   "cell_type": "markdown",
   "metadata": {},
   "source": [
    "Load the AnnData object from the CellRank software package. "
   ]
  },
  {
   "cell_type": "code",
   "execution_count": 8,
   "metadata": {
    "ExecuteTime": {
     "end_time": "2020-10-17T19:34:40.006638Z",
     "start_time": "2020-10-17T19:34:39.172073Z"
    }
   },
   "outputs": [
    {
     "data": {
      "text/plain": [
       "AnnData object with n_obs × n_vars = 2531 × 27998\n",
       "    obs: 'day', 'proliferation', 'G2M_score', 'S_score', 'phase', 'clusters_coarse', 'clusters', 'clusters_fine', 'louvain_Alpha', 'louvain_Beta', 'palantir_pseudotime'\n",
       "    var: 'highly_variable_genes'\n",
       "    uns: 'clusters_colors', 'clusters_fine_colors', 'day_colors', 'louvain_Alpha_colors', 'louvain_Beta_colors', 'pca'\n",
       "    obsm: 'X_pca', 'X_umap'\n",
       "    layers: 'spliced', 'unspliced'\n",
       "    obsp: 'connectivities', 'distances'"
      ]
     },
     "execution_count": 8,
     "metadata": {},
     "output_type": "execute_result"
    }
   ],
   "source": [
    "adata = cr.datasets.pancreas(DATA_DIR / \"pancreas\" / \"pancreas.h5ad\")\n",
    "del adata.uns[\"neighbors\"]  # creshed anndata2ri, we don't need it\n",
    "adata"
   ]
  },
  {
   "cell_type": "markdown",
   "metadata": {},
   "source": [
    "# Analysis"
   ]
  },
  {
   "cell_type": "markdown",
   "metadata": {},
   "source": [
    "## Convert AnnData to SCseq"
   ]
  },
  {
   "cell_type": "code",
   "execution_count": 9,
   "metadata": {
    "ExecuteTime": {
     "end_time": "2020-10-17T19:34:56.334681Z",
     "start_time": "2020-10-17T19:34:40.312365Z"
    }
   },
   "outputs": [],
   "source": [
    "%%R -i adata -i root\n",
    "out_dir = root\n",
    "X <- adata@assays@data[['X']]  # X, spliced, unspliced\n",
    "rownames(X) <- rownames(adata)\n",
    "colnames(X) <- colnames(adata)\n",
    "# The raw expression data matrix with cells as columns and genes as rows in sparse matrix format.\n",
    "sc <- SCseq(X)"
   ]
  },
  {
   "cell_type": "markdown",
   "metadata": {},
   "source": [
    "## Filter, cluster and compute the embedding"
   ]
  },
  {
   "cell_type": "code",
   "execution_count": 10,
   "metadata": {
    "ExecuteTime": {
     "end_time": "2020-10-17T19:37:19.506565Z",
     "start_time": "2020-10-17T19:34:56.494748Z"
    }
   },
   "outputs": [
    {
     "name": "stdout",
     "output_type": "stream",
     "text": [
      "Clustering k = 1,2,..., K.max (= 30): .. \n",
      "k = 1  2  3  4  5  6  7  8  9  10  11  12  13  14  15  16  17  18  19  20  21  22  23  24  25  26  27  28  29  30 \n",
      "done.\n",
      "subset 1 \n",
      "subset 2 \n",
      "subset 3 \n",
      "subset 4 \n",
      "subset 5 \n",
      "subset 6 \n",
      "subset 7 \n",
      "subset 8 \n",
      "subset 9 \n",
      "subset 10 \n",
      "subset 11 \n",
      "subset 12 \n",
      "subset 13 \n",
      "subset 14 \n",
      "subset 15 \n",
      "subset 16 \n",
      "subset 17 \n",
      "subset 18 \n",
      "subset 19 \n",
      "subset 20 \n",
      "subset 21 \n",
      "subset 22 \n",
      "subset 23 \n",
      "subset 24 \n",
      "subset 25 \n",
      "subset 26 \n",
      "subset 27 \n",
      "subset 28 \n",
      "subset 29 \n",
      "subset 30 \n",
      "subset 31 \n",
      "subset 32 \n",
      "subset 33 \n",
      "subset 34 \n",
      "subset 35 \n",
      "subset 36 \n",
      "subset 37 \n",
      "subset 38 \n",
      "subset 39 \n",
      "subset 40 \n",
      "subset 41 \n",
      "subset 42 \n",
      "subset 43 \n",
      "subset 44 \n",
      "subset 45 \n",
      "subset 46 \n",
      "subset 47 \n",
      "subset 48 \n",
      "subset 49 \n",
      "subset 50 \n",
      "find outliers in cluster 1  2  3  4  5  6  7  8  9  10  11 \n",
      "merging outliers 1  2  3  4  5  6  7  8  9  10  11 \n",
      "determine final clustering partition 1  2  3  4  5  6  7  8  9  10  11  12  13  14  15  16  17  18  19  20  21  22 \n"
     ]
    }
   ],
   "source": [
    "%%R\n",
    "sc <- filterdata(sc, mintotal=10)\n",
    "sc <- compdist(sc, metric=\"logpearson\")\n",
    "sc <- clustexp(sc, samp=1000)\n",
    "sc <- findoutliers(sc)\n",
    "sc <- comptsne(sc)"
   ]
  },
  {
   "cell_type": "markdown",
   "metadata": {},
   "source": [
    "## Extract data needed for fateBias"
   ]
  },
  {
   "cell_type": "code",
   "execution_count": 11,
   "metadata": {
    "ExecuteTime": {
     "end_time": "2020-10-17T19:37:20.561411Z",
     "start_time": "2020-10-17T19:37:19.661794Z"
    }
   },
   "outputs": [
    {
     "name": "stdout",
     "output_type": "stream",
     "text": [
      "[1]  526 2531\n",
      "[1] \"Irs4\"\n",
      "[1]  527 2531\n"
     ]
    }
   ],
   "source": [
    "%%R\n",
    "x <- as.matrix(getfdata(sc)[sc@cluster$features,])\n",
    "print(dim(x))\n",
    "genes <- c(\"Pax4\", \"Pdx1\", \"Arx\", \"Peg10\", \"Irs4\" ,\"Ghrl\", \"Hhex\", \"Cd24a\")\n",
    "for (gene in genes) {\n",
    "    if (!gene %in% rownames(x)) {\n",
    "        print(gene)\n",
    "        rnames <- rownames(x)\n",
    "        x <- rbind(x, getfdata(sc)[gene,])\n",
    "        rownames(x) <- c(rnames, gene)\n",
    "    }\n",
    "}\n",
    "for (gene in genes) {\n",
    "    if (!gene %in% rownames(x)) {\n",
    "        print(gene)\n",
    "    }\n",
    "}\n",
    "print(dim(x))\n",
    "\n",
    "markers <- list(Beta=c(\"Ins1\"), Alpha=c(\"Gcg\"), Epsilon=c(\"Ghrl\"), Delta=c(\"Sst\"))\n",
    "\n",
    "# cell type partition based, n - positive integer number. For each component of FMarker the expression\n",
    "# of all genes is aggregated in every cell and the n top-expressing cells are extracted.\n",
    "pa <- getPart(x, markers, n=50)\n",
    "\n",
    "# A vector with a partitioning, i. e. cluster assignment for each cell\n",
    "clustering <- pa$part\n",
    "# A vector with the numbers of target (end point) clusters.\n",
    "# Cluster 1 comprises all cells with no enrichment of marker genes\n",
    "endpoints <- pa$tar\n",
    "z <- sc@distances"
   ]
  },
  {
   "cell_type": "markdown",
   "metadata": {},
   "source": [
    "## Run fateBias"
   ]
  },
  {
   "cell_type": "code",
   "execution_count": 12,
   "metadata": {
    "ExecuteTime": {
     "end_time": "2020-10-17T19:40:26.325229Z",
     "start_time": "2020-10-17T19:37:20.729276Z"
    }
   },
   "outputs": [
    {
     "name": "stdout",
     "output_type": "stream",
     "text": [
      "minnr: 5 \n",
      "minnrh: 20 \n",
      "test set size iteration 1 : 5 5 5 5 \n",
      "randomforest iteration 1 of 20 cells\n",
      "test set size iteration 2 : 5 3 3 2 \n",
      "randomforest iteration 2 of 13 cells\n",
      "test set size iteration 3 : 5 2.5 3.75 3.75 \n",
      "randomforest iteration 3 of 15 cells\n",
      "test set size iteration 4 : 5 2.5 1.666667 3.333333 \n",
      "randomforest iteration 4 of 12 cells\n",
      "test set size iteration 5 : 5 1.666667 0.8333333 1.666667 \n",
      "randomforest iteration 5 of 10 cells\n",
      "test set size iteration 6 : 5 1 1 2 \n",
      "randomforest iteration 6 of 9 cells\n",
      "test set size iteration 7 : 5 2.5 2.5 2.5 \n",
      "randomforest iteration 7 of 11 cells\n",
      "test set size iteration 8 : 5 2 1 3 \n",
      "randomforest iteration 8 of 11 cells\n",
      "test set size iteration 9 : 3.333333 3.333333 3.333333 5 \n",
      "randomforest iteration 9 of 14 cells\n",
      "test set size iteration 10 : 5 3.333333 3.333333 5 \n",
      "randomforest iteration 10 of 16 cells\n",
      "test set size iteration 11 : 5 1 4 3 \n",
      "randomforest iteration 11 of 13 cells\n",
      "test set size iteration 12 : 5 2.5 5 5 \n",
      "randomforest iteration 12 of 17 cells\n",
      "test set size iteration 13 : 5 1.666667 1.666667 3.333333 \n",
      "randomforest iteration 13 of 12 cells\n",
      "test set size iteration 14 : 5 1.666667 1.666667 1.666667 \n",
      "randomforest iteration 14 of 11 cells\n",
      "test set size iteration 15 : 5 1.25 1.25 2.5 \n",
      "randomforest iteration 15 of 9 cells\n",
      "test set size iteration 16 : 5 2.5 2.5 2.5 \n",
      "randomforest iteration 16 of 11 cells\n",
      "test set size iteration 17 : 5 1 1 2 \n",
      "randomforest iteration 17 of 9 cells\n",
      "test set size iteration 18 : 5 1.25 1.25 1.25 \n",
      "randomforest iteration 18 of 8 cells\n",
      "test set size iteration 19 : 5 1.25 1.25 1.25 \n",
      "randomforest iteration 19 of 8 cells\n",
      "test set size iteration 20 : 5 2.5 2.5 2.5 \n",
      "randomforest iteration 20 of 11 cells\n",
      "test set size iteration 21 : 5 1.666667 1.666667 5 \n",
      "randomforest iteration 21 of 13 cells\n",
      "test set size iteration 22 : 5 5 5 5 \n",
      "randomforest iteration 22 of 20 cells\n",
      "test set size iteration 23 : 5 5 2.5 2.5 \n",
      "randomforest iteration 23 of 14 cells\n",
      "test set size iteration 24 : 5 5 5 5 \n",
      "randomforest iteration 24 of 19 cells\n",
      "test set size iteration 25 : 5 2.5 2.5 2.5 \n",
      "randomforest iteration 25 of 11 cells\n",
      "test set size iteration 26 : 5 2.5 2.5 2.5 \n",
      "randomforest iteration 26 of 11 cells\n",
      "test set size iteration 27 : 5 2.5 2.5 2.5 \n",
      "randomforest iteration 27 of 11 cells\n",
      "test set size iteration 28 : 2.5 5 2.5 2.5 \n",
      "randomforest iteration 28 of 11 cells\n",
      "test set size iteration 29 : 5 5 5 5 \n",
      "randomforest iteration 29 of 20 cells\n",
      "test set size iteration 30 : 5 5 5 5 \n",
      "randomforest iteration 30 of 20 cells\n",
      "test set size iteration 31 : 5 5 5 5 \n",
      "randomforest iteration 31 of 20 cells\n",
      "test set size iteration 32 : 5 5 5 5 \n",
      "randomforest iteration 32 of 20 cells\n",
      "test set size iteration 33 : 5 5 5 5 \n",
      "randomforest iteration 33 of 20 cells\n",
      "test set size iteration 34 : 5 5 5 5 \n",
      "randomforest iteration 34 of 20 cells\n",
      "test set size iteration 35 : 5 5 5 5 \n",
      "randomforest iteration 35 of 20 cells\n",
      "test set size iteration 36 : 5 5 5 5 \n",
      "randomforest iteration 36 of 20 cells\n",
      "test set size iteration 37 : 5 5 5 5 \n",
      "randomforest iteration 37 of 20 cells\n",
      "test set size iteration 38 : 5 5 5 5 \n",
      "randomforest iteration 38 of 20 cells\n",
      "test set size iteration 39 : 5 5 5 5 \n",
      "randomforest iteration 39 of 20 cells\n",
      "test set size iteration 40 : 5 5 5 5 \n",
      "randomforest iteration 40 of 20 cells\n",
      "test set size iteration 41 : 5 5 5 5 \n",
      "randomforest iteration 41 of 20 cells\n",
      "test set size iteration 42 : 5 5 5 5 \n",
      "randomforest iteration 42 of 20 cells\n",
      "test set size iteration 43 : 5 5 5 5 \n",
      "randomforest iteration 43 of 20 cells\n",
      "test set size iteration 44 : 5 5 5 5 \n",
      "randomforest iteration 44 of 18 cells\n",
      "test set size iteration 45 : 5 5 5 5 \n",
      "randomforest iteration 45 of 20 cells\n",
      "test set size iteration 46 : 5 5 5 5 \n",
      "randomforest iteration 46 of 19 cells\n",
      "test set size iteration 47 : 5 5 5 5 \n",
      "randomforest iteration 47 of 19 cells\n",
      "test set size iteration 48 : 5 5 5 5 \n",
      "randomforest iteration 48 of 19 cells\n",
      "test set size iteration 49 : 5 5 5 5 \n",
      "randomforest iteration 49 of 20 cells\n",
      "test set size iteration 50 : 5 5 5 5 \n",
      "randomforest iteration 50 of 20 cells\n",
      "test set size iteration 51 : 5 5 5 5 \n",
      "randomforest iteration 51 of 20 cells\n",
      "test set size iteration 52 : 5 5 5 5 \n",
      "randomforest iteration 52 of 20 cells\n",
      "test set size iteration 53 : 5 5 5 5 \n",
      "randomforest iteration 53 of 20 cells\n",
      "test set size iteration 54 : 5 5 5 5 \n",
      "randomforest iteration 54 of 20 cells\n",
      "test set size iteration 55 : 5 5 5 5 \n",
      "randomforest iteration 55 of 19 cells\n",
      "test set size iteration 56 : 5 5 5 5 \n",
      "randomforest iteration 56 of 20 cells\n",
      "test set size iteration 57 : 5 5 5 5 \n",
      "randomforest iteration 57 of 18 cells\n",
      "test set size iteration 58 : 5 5 5 5 \n",
      "randomforest iteration 58 of 18 cells\n",
      "test set size iteration 59 : 5 5 5 5 \n",
      "randomforest iteration 59 of 19 cells\n",
      "test set size iteration 60 : 5 5 5 5 \n",
      "randomforest iteration 60 of 20 cells\n",
      "test set size iteration 61 : 2.5 2.5 5 2.5 \n",
      "randomforest iteration 61 of 11 cells\n",
      "test set size iteration 62 : 5 5 5 5 \n",
      "randomforest iteration 62 of 19 cells\n",
      "test set size iteration 63 : 5 5 5 5 \n",
      "randomforest iteration 63 of 19 cells\n",
      "test set size iteration 64 : 5 5 5 5 \n",
      "randomforest iteration 64 of 19 cells\n",
      "test set size iteration 65 : 5 5 5 5 \n",
      "randomforest iteration 65 of 17 cells\n",
      "test set size iteration 66 : 5 5 5 5 \n",
      "randomforest iteration 66 of 19 cells\n",
      "test set size iteration 67 : 5 5 5 5 \n",
      "randomforest iteration 67 of 19 cells\n",
      "test set size iteration 68 : 5 5 5 5 \n",
      "randomforest iteration 68 of 18 cells\n",
      "test set size iteration 69 : 5 5 5 5 \n",
      "randomforest iteration 69 of 18 cells\n",
      "test set size iteration 70 : 5 5 5 5 \n",
      "randomforest iteration 70 of 19 cells\n",
      "test set size iteration 71 : 5 5 5 5 \n",
      "randomforest iteration 71 of 18 cells\n",
      "test set size iteration 72 : 5 5 5 5 \n",
      "randomforest iteration 72 of 18 cells\n",
      "test set size iteration 73 : 5 5 5 5 \n",
      "randomforest iteration 73 of 18 cells\n",
      "test set size iteration 74 : 5 5 5 5 \n",
      "randomforest iteration 74 of 19 cells\n",
      "test set size iteration 75 : 5 5 5 5 \n",
      "randomforest iteration 75 of 17 cells\n",
      "test set size iteration 76 : 5 5 5 5 \n",
      "randomforest iteration 76 of 18 cells\n",
      "test set size iteration 77 : 5 5 5 5 \n",
      "randomforest iteration 77 of 18 cells\n",
      "test set size iteration 78 : 5 5 5 5 \n",
      "randomforest iteration 78 of 17 cells\n",
      "test set size iteration 79 : 5 5 5 5 \n",
      "randomforest iteration 79 of 20 cells\n",
      "test set size iteration 80 : 5 5 5 5 \n",
      "randomforest iteration 80 of 18 cells\n",
      "test set size iteration 81 : 5 5 5 5 \n",
      "randomforest iteration 81 of 18 cells\n",
      "test set size iteration 82 : 5 5 5 5 \n",
      "randomforest iteration 82 of 16 cells\n",
      "test set size iteration 83 : 2.5 2.5 2.5 5 \n",
      "randomforest iteration 83 of 11 cells\n",
      "test set size iteration 84 : 5 5 5 5 \n",
      "randomforest iteration 84 of 18 cells\n",
      "test set size iteration 85 : 1.666667 1.666667 5 5 \n",
      "randomforest iteration 85 of 13 cells\n",
      "test set size iteration 86 : 1.25 1.25 5 3.75 \n",
      "randomforest iteration 86 of 11 cells\n",
      "test set size iteration 87 : 2.5 2.5 2.5 5 \n",
      "randomforest iteration 87 of 11 cells\n",
      "test set size iteration 88 : 5 5 5 5 \n",
      "randomforest iteration 88 of 19 cells\n",
      "test set size iteration 89 : 2.5 2.5 5 2.5 \n",
      "randomforest iteration 89 of 9 cells\n",
      "test set size iteration 90 : 2.5 2.5 2.5 5 \n",
      "randomforest iteration 90 of 11 cells\n",
      "test set size iteration 91 : 5 5 5 5 \n",
      "randomforest iteration 91 of 14 cells\n",
      "test set size iteration 92 : 5 5 5 5 \n",
      "randomforest iteration 92 of 18 cells\n",
      "test set size iteration 93 : 2.5 2.5 5 5 \n",
      "randomforest iteration 93 of 13 cells\n",
      "test set size iteration 94 : 1 1 2 5 \n",
      "randomforest iteration 94 of 9 cells\n",
      "test set size iteration 95 : 1.666667 1.666667 1.666667 5 \n",
      "randomforest iteration 95 of 10 cells\n",
      "test set size iteration 96 : 1.666667 1.666667 3.333333 5 \n",
      "randomforest iteration 96 of 12 cells\n",
      "test set size iteration 97 : 2.5 2.5 2.5 5 \n",
      "randomforest iteration 97 of 10 cells\n",
      "test set size iteration 98 : 5 5 5 5 \n",
      "randomforest iteration 98 of 16 cells\n",
      "test set size iteration 99 : 1.25 1.25 2.5 5 \n",
      "randomforest iteration 99 of 9 cells\n",
      "test set size iteration 100 : 1.25 1.25 2.5 5 \n",
      "randomforest iteration 100 of 9 cells\n",
      "test set size iteration 101 : 1.25 1.25 2.5 5 \n",
      "randomforest iteration 101 of 8 cells\n",
      "test set size iteration 102 : 1.25 1.25 2.5 5 \n",
      "randomforest iteration 102 of 9 cells\n",
      "test set size iteration 103 : 0.8333333 0.8333333 0.8333333 5 \n"
     ]
    },
    {
     "name": "stdout",
     "output_type": "stream",
     "text": [
      "randomforest iteration 103 of 7 cells\n",
      "test set size iteration 104 : 5 5 5 5 \n",
      "randomforest iteration 104 of 16 cells\n",
      "test set size iteration 105 : 1.25 1.25 2.5 5 \n",
      "randomforest iteration 105 of 9 cells\n",
      "test set size iteration 106 : 1.666667 1.666667 3.333333 5 \n",
      "randomforest iteration 106 of 11 cells\n",
      "test set size iteration 107 : 1 1 3 5 \n",
      "randomforest iteration 107 of 9 cells\n",
      "test set size iteration 108 : 1.25 1.25 2.5 5 \n",
      "randomforest iteration 108 of 7 cells\n",
      "test set size iteration 109 : 2.5 2.5 2.5 5 \n",
      "randomforest iteration 109 of 8 cells\n",
      "test set size iteration 110 : 5 5 5 5 \n",
      "randomforest iteration 110 of 15 cells\n",
      "test set size iteration 111 : 2.5 2.5 5 5 \n",
      "randomforest iteration 111 of 12 cells\n",
      "test set size iteration 112 : 1.25 1.25 5 2.5 \n",
      "randomforest iteration 112 of 8 cells\n",
      "test set size iteration 113 : 1.666667 1.666667 3.333333 5 \n",
      "randomforest iteration 113 of 12 cells\n",
      "test set size iteration 114 : 2.5 2.5 2.5 5 \n",
      "randomforest iteration 114 of 10 cells\n",
      "test set size iteration 115 : 2.5 2.5 5 5 \n",
      "randomforest iteration 115 of 12 cells\n",
      "test set size iteration 116 : 5 5 5 5 \n",
      "randomforest iteration 116 of 14 cells\n",
      "test set size iteration 117 : 1 1 2 5 \n",
      "randomforest iteration 117 of 8 cells\n",
      "test set size iteration 118 : 5 5 5 5 \n",
      "randomforest iteration 118 of 17 cells\n",
      "test set size iteration 119 : 2.5 2.5 2.5 5 \n",
      "randomforest iteration 119 of 11 cells\n",
      "test set size iteration 120 : 5 5 5 5 \n",
      "randomforest iteration 120 of 17 cells\n",
      "test set size iteration 121 : 5 5 5 5 \n",
      "randomforest iteration 121 of 16 cells\n",
      "test set size iteration 122 : 2.5 2.5 2.5 5 \n",
      "randomforest iteration 122 of 9 cells\n",
      "test set size iteration 123 : 2.5 2.5 2.5 5 \n",
      "randomforest iteration 123 of 10 cells\n",
      "test set size iteration 124 : 5 5 5 5 \n",
      "randomforest iteration 124 of 19 cells\n",
      "test set size iteration 125 : 5 5 5 5 \n",
      "randomforest iteration 125 of 19 cells\n",
      "test set size iteration 126 : 5 5 5 5 \n",
      "randomforest iteration 126 of 17 cells\n",
      "test set size iteration 127 : 2.5 2.5 5 2.5 \n",
      "randomforest iteration 127 of 11 cells\n",
      "test set size iteration 128 : 2.5 2.5 2.5 5 \n",
      "randomforest iteration 128 of 11 cells\n",
      "test set size iteration 129 : 1.25 1.25 5 1.25 \n",
      "randomforest iteration 129 of 7 cells\n",
      "test set size iteration 130 : 5 5 5 5 \n",
      "randomforest iteration 130 of 20 cells\n",
      "test set size iteration 131 : 0.7142857 0.7142857 5 1.428571 \n",
      "randomforest iteration 131 of 8 cells\n",
      "test set size iteration 132 : 1.666667 1.666667 5 1.666667 \n",
      "randomforest iteration 132 of 9 cells\n",
      "test set size iteration 133 : 1.25 1.25 3.75 5 \n",
      "randomforest iteration 133 of 10 cells\n",
      "test set size iteration 134 : 5 5 5 5 \n",
      "randomforest iteration 134 of 17 cells\n",
      "test set size iteration 135 : 0.5555556 0.5555556 5 3.888889 \n",
      "randomforest iteration 135 of 11 cells\n",
      "test set size iteration 136 : 0.8333333 0.8333333 4.166667 5 \n",
      "randomforest iteration 136 of 10 cells\n",
      "test set size iteration 137 : 0.7142857 0.7142857 2.857143 5 \n",
      "randomforest iteration 137 of 10 cells\n",
      "test set size iteration 138 : 0.7142857 0.7142857 2.857143 5 \n",
      "randomforest iteration 138 of 10 cells\n",
      "test set size iteration 139 : 0.7142857 0.7142857 3.571429 5 \n",
      "randomforest iteration 139 of 10 cells\n",
      "test set size iteration 140 : 0.8333333 0.8333333 2.5 5 \n",
      "randomforest iteration 140 of 9 cells\n",
      "test set size iteration 141 : 0.7142857 0.7142857 2.142857 5 \n",
      "randomforest iteration 141 of 9 cells\n",
      "test set size iteration 142 : 1.666667 1.666667 3.333333 5 \n",
      "randomforest iteration 142 of 11 cells\n",
      "test set size iteration 143 : 0.8333333 0.8333333 3.333333 5 \n",
      "randomforest iteration 143 of 10 cells\n",
      "test set size iteration 144 : 2.5 2.5 2.5 5 \n",
      "randomforest iteration 144 of 11 cells\n",
      "test set size iteration 145 : 0.7142857 0.7142857 1.428571 5 \n",
      "randomforest iteration 145 of 8 cells\n",
      "test set size iteration 146 : 0.8333333 0.8333333 1.666667 5 \n",
      "randomforest iteration 146 of 8 cells\n",
      "test set size iteration 147 : 1.25 1.25 3.75 5 \n",
      "randomforest iteration 147 of 11 cells\n",
      "test set size iteration 148 : 0.7142857 0.7142857 2.142857 5 \n",
      "randomforest iteration 148 of 9 cells\n",
      "test set size iteration 149 : 5 5 5 5 \n",
      "randomforest iteration 149 of 19 cells\n",
      "test set size iteration 150 : 0.7142857 0.7142857 5 5 \n",
      "randomforest iteration 150 of 12 cells\n",
      "test set size iteration 151 : 1.25 1.25 5 5 \n",
      "randomforest iteration 151 of 11 cells\n",
      "test set size iteration 152 : 1 1 3 5 \n",
      "randomforest iteration 152 of 10 cells\n",
      "test set size iteration 153 : 1.25 1.25 3.75 5 \n",
      "randomforest iteration 153 of 10 cells\n",
      "test set size iteration 154 : 0.7142857 0.7142857 2.142857 5 \n",
      "randomforest iteration 154 of 9 cells\n",
      "test set size iteration 155 : 0.7142857 0.7142857 2.142857 5 \n",
      "randomforest iteration 155 of 9 cells\n",
      "test set size iteration 156 : 0.8333333 0.8333333 2.5 5 \n",
      "randomforest iteration 156 of 9 cells\n",
      "test set size iteration 157 : 1 1 4 5 \n",
      "randomforest iteration 157 of 11 cells\n",
      "test set size iteration 158 : 0.8333333 0.8333333 3.333333 5 \n",
      "randomforest iteration 158 of 10 cells\n",
      "test set size iteration 159 : 0.7142857 0.7142857 2.142857 5 \n",
      "randomforest iteration 159 of 9 cells\n",
      "test set size iteration 160 : 2.5 2.5 5 5 \n",
      "randomforest iteration 160 of 14 cells\n",
      "test set size iteration 161 : 1.666667 1.666667 5 5 \n",
      "randomforest iteration 161 of 13 cells\n",
      "test set size iteration 162 : 1 1 5 5 \n",
      "randomforest iteration 162 of 12 cells\n",
      "test set size iteration 163 : 1.25 1.25 5 5 \n",
      "randomforest iteration 163 of 12 cells\n",
      "test set size iteration 164 : 0.7142857 0.7142857 3.571429 5 \n",
      "randomforest iteration 164 of 10 cells\n",
      "test set size iteration 165 : 1 1 3 5 \n",
      "randomforest iteration 165 of 9 cells\n",
      "test set size iteration 166 : 1.25 1.25 3.75 5 \n",
      "randomforest iteration 166 of 10 cells\n",
      "test set size iteration 167 : 2.5 2.5 5 5 \n",
      "randomforest iteration 167 of 14 cells\n",
      "test set size iteration 168 : 0.7142857 0.7142857 4.285714 5 \n",
      "randomforest iteration 168 of 11 cells\n",
      "test set size iteration 169 : 1 1 5 5 \n",
      "randomforest iteration 169 of 11 cells\n",
      "test set size iteration 170 : 5 5 5 5 \n",
      "randomforest iteration 170 of 17 cells\n",
      "test set size iteration 171 : 0.7142857 0.7142857 5 2.142857 \n",
      "randomforest iteration 171 of 9 cells\n",
      "test set size iteration 172 : 1.25 1.25 5 3.75 \n",
      "randomforest iteration 172 of 8 cells\n",
      "test set size iteration 173 : 5 5 5 5 \n",
      "randomforest iteration 173 of 17 cells\n",
      "test set size iteration 174 : 0.8333333 0.8333333 5 4.166667 \n",
      "randomforest iteration 174 of 10 cells\n",
      "test set size iteration 175 : 1 1 5 4 \n",
      "randomforest iteration 175 of 9 cells\n",
      "test set size iteration 176 : 1.666667 1.666667 5 1.666667 \n",
      "randomforest iteration 176 of 6 cells\n",
      "test set size iteration 177 : 2.5 2.5 5 2.5 \n",
      "randomforest iteration 177 of 5 cells\n"
     ]
    }
   ],
   "source": [
    "%%R\n",
    "# fateBias(x, y, tar, z=NULL, minnr=5, minnrh=10, adapt=TRUE, confidence=0.75, nbfactor=5, use.dist=FALSE, seed=12345, nbtree=NULL)\n",
    "# minr - step size of the algo (test size - number of cells to be classified per end point, recommended 5)\n",
    "# minnrh - cells used for training (can be inf to use all previous cells, recommended: 20)\n",
    "# x - data representation (e.g. could be only HVGs, PCA, ...)\n",
    "\n",
    "# as.matrix(x) necessary if use.dist=FALSE\n",
    "fb  <- fateBias(as.matrix(x), clustering, endpoints, z=z, minnr=5, minnrh=20, seed=123, use.dist=FALSE)"
   ]
  },
  {
   "cell_type": "markdown",
   "metadata": {},
   "source": [
    "### Extract the values"
   ]
  },
  {
   "cell_type": "code",
   "execution_count": 13,
   "metadata": {
    "ExecuteTime": {
     "end_time": "2020-10-17T19:40:26.571097Z",
     "start_time": "2020-10-17T19:40:26.524809Z"
    }
   },
   "outputs": [],
   "source": [
    "%%R -o res\n",
    "trthr = 0.15  # fate bias threshold\n",
    "res = list()\n",
    "for ( j in colnames(fb$probs) ){\n",
    "  probs <- fb$probs\n",
    "  n  <- rownames(probs)[probs[,j] > trthr]\n",
    "  res[[j]] = n\n",
    "}"
   ]
  },
  {
   "cell_type": "markdown",
   "metadata": {},
   "source": [
    "### Identify root cells witin each lineage"
   ]
  },
  {
   "cell_type": "code",
   "execution_count": 14,
   "metadata": {
    "ExecuteTime": {
     "end_time": "2020-10-17T19:40:29.448167Z",
     "start_time": "2020-10-17T19:40:27.250951Z"
    }
   },
   "outputs": [
    {
     "name": "stdout",
     "output_type": "stream",
     "text": [
      "['CATCGGGTCTTCGGTC-1-3', 'ACATACGGTCCCGACA-1-3', 'AAACGGGTCAGCTCTC-1-3', 'TCTGAGATCTGAGTGT-1-3']\n",
      "{'t2': 143, 't3': 69, 't4': 7, 't5': 1701}\n"
     ]
    }
   ],
   "source": [
    "adata_preprocessed = cr.datasets.pancreas_preprocessed(DATA_DIR / \"pancreas\" / \"pancreas_preprocessed.h5ad\")\n",
    "root_names = []\n",
    "\n",
    "for i in range(2, 6):\n",
    "    indices = res.rx2(f\"t{i}\")\n",
    "    tmp = adata_preprocessed[indices].obs['dpt_pseudotime']\n",
    "    ix = tmp.argmin()\n",
    "    root_names.append(tmp.index[ix])\n",
    "    \n",
    "print(root_names)\n",
    "\n",
    "root_ixs = []\n",
    "for root_name, key in zip(root_names, [f\"t{i}\" for i in range(2, 6)]):\n",
    "    # +1 because R indexes from 1\n",
    "    root_ixs.append(np.where(res.rx2(key) == root_name)[0][0] + 1)\n",
    "root_ixs = dict(zip([f\"t{i}\" for i in range(2, 6)], root_ixs))\n",
    "print(root_ixs)\n",
    "root_ixs = ListVector(root_ixs)"
   ]
  },
  {
   "cell_type": "markdown",
   "metadata": {},
   "source": [
    "## Run DPT"
   ]
  },
  {
   "cell_type": "code",
   "execution_count": 15,
   "metadata": {
    "ExecuteTime": {
     "end_time": "2020-10-17T19:43:33.216171Z",
     "start_time": "2020-10-17T19:40:30.232917Z"
    }
   },
   "outputs": [],
   "source": [
    "%%R -i root_ixs\n",
    "trc <- dptTraj(as.matrix(x), clustering, fb, root_ixs, trthr=trthr, distance=\"euclidean\")\n",
    "pts <- trc[['pts']]\n",
    "trc <- trc[['trc']]\n",
    "names(trc) <- c('Beta', 'Alpha', 'Epsilon', 'Delta')\n",
    "names(pts) <- c('Beta', 'Alpha', 'Epsilon', 'Delta')"
   ]
  },
  {
   "cell_type": "markdown",
   "metadata": {},
   "source": [
    "## Extract and save the data for plotting"
   ]
  },
  {
   "cell_type": "markdown",
   "metadata": {},
   "source": [
    "### Save the fate biases, smoothed expression values and DPT"
   ]
  },
  {
   "cell_type": "code",
   "execution_count": 17,
   "metadata": {
    "ExecuteTime": {
     "end_time": "2020-10-17T19:44:03.942463Z",
     "start_time": "2020-10-17T19:44:02.579516Z"
    }
   },
   "outputs": [],
   "source": [
    "%%R\n",
    "for (lineage in names(trc)) {\n",
    "    n <- trc[[lineage]]\n",
    "    fs <- filterset(x,n=n, minexpr=0)\n",
    "    for (gene in genes) {\n",
    "        stopifnot(gene %in% rownames(fs))\n",
    "    }\n",
    "    # this is the same as plotexpressionProfile, but we return the LOESS'd data\n",
    "    tmp <- extractData(as.matrix(x), clustering, g=genes, n=n, cluster=FALSE, logsc=FALSE)\n",
    "    \n",
    "    write.csv(t(tmp), paste0(out_dir, \"/\", lineage, \".csv\"))\n",
    "    write.csv(pts[[lineage]], paste0(out_dir, \"/\", lineage, \"_pt.csv\"))\n",
    "    write.csv(trc[[lineage]], paste0(out_dir, \"/\", lineage, \"_ixs.csv\"))\n",
    "}\n",
    "\n",
    "write.csv(fb$probs, paste0(out_dir, \"/\", \"probs.csv\"))"
   ]
  },
  {
   "cell_type": "markdown",
   "metadata": {},
   "source": [
    "## Visualize smoothed trends for the Delta lineage"
   ]
  },
  {
   "cell_type": "code",
   "execution_count": 18,
   "metadata": {
    "ExecuteTime": {
     "end_time": "2020-10-17T19:44:06.681082Z",
     "start_time": "2020-10-17T19:44:06.234967Z"
    }
   },
   "outputs": [
    {
     "name": "stdout",
     "output_type": "stream",
     "text": [
      "[1] \"Delta\"\n"
     ]
    },
    {
     "data": {
      "image/png": "[encoded data removed]"
     },
     "metadata": {},
     "output_type": "display_data"
    }
   ],
   "source": [
    "%%R\n",
    "print(lineage)\n",
    "for (gene in genes) {\n",
    "    stopifnot(gene %in% rownames(x))\n",
    "}\n",
    "plotexpressionProfile(x, clustering, n=n, g=genes, cluster=FALSE, logsc=FALSE)"
   ]
  }
 ],
 "metadata": {
  "kernelspec": {
   "display_name": "cellrank",
   "language": "python",
   "name": "cellrank"
  },
  "toc": {
   "base_numbering": 1,
   "nav_menu": {},
   "number_sections": true,
   "sideBar": true,
   "skip_h1_title": false,
   "title_cell": "Table of Contents",
   "title_sidebar": "Contents",
   "toc_cell": false,
   "toc_position": {
    "height": "calc(100% - 180px)",
    "left": "10px",
    "top": "150px",
    "width": "288px"
   },
   "toc_section_display": true,
   "toc_window_display": true
  },
  "varInspector": {
   "cols": {
    "lenName": 16,
    "lenType": 16,
    "lenVar": 40
   },
   "kernels_config": {
    "python": {
     "delete_cmd_postfix": "",
     "delete_cmd_prefix": "del ",
     "library": "var_list.py",
     "varRefreshCmd": "print(var_dic_list())"
    },
    "r": {
     "delete_cmd_postfix": ") ",
     "delete_cmd_prefix": "rm(",
     "library": "var_list.r",
     "varRefreshCmd": "cat(var_dic_list()) "
    }
   },
   "types_to_exclude": [
    "module",
    "function",
    "builtin_function_or_method",
    "instance",
    "_Feature"
   ],
   "window_display": false
  }
 },
 "nbformat": 4,
 "nbformat_minor": 4
}

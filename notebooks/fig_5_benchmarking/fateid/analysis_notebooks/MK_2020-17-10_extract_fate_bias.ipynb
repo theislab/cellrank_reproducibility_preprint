{
 "cells": [
  {
   "cell_type": "markdown",
   "metadata": {},
   "source": [
    "Fig. 5: Benchmark FateID\n",
    "----\n",
    "\n",
    "In this notebook, we extract FateID's fate biases and smoothed expression."
   ]
  },
  {
   "cell_type": "markdown",
   "metadata": {
    "hidePrompt": true
   },
   "source": [
    "# Preliminaries"
   ]
  },
  {
   "cell_type": "markdown",
   "metadata": {},
   "source": [
    "## Import packages"
   ]
  },
  {
   "cell_type": "code",
   "execution_count": 1,
   "metadata": {
    "ExecuteTime": {
     "end_time": "2020-10-13T13:52:31.995423Z",
     "start_time": "2020-10-13T13:52:20.055853Z"
    },
    "hidePrompt": true
   },
   "outputs": [],
   "source": [
    "# import standard packages\n",
    "import numpy as np\n",
    "import pandas as pd\n",
    "from rpy2.robjects import ListVector\n",
    "\n",
    "import matplotlib.pyplot as plt\n",
    "import seaborn as sns\n",
    "\n",
    "import os\n",
    "import sys\n",
    "\n",
    "# import single-cell packages\n",
    "import scanpy as sc\n",
    "import scanpy.external as sce\n",
    "import scvelo as scv\n",
    "import cellrank as cr\n",
    "import anndata2ri\n",
    "\n",
    "# set verbosity levels\n",
    "sc.settings.verbosity = 2\n",
    "cr.settings.verbosity = 2\n",
    "scv.settings.verbosity = 3 \n",
    "\n",
    "anndata2ri.activate()\n",
    "%load_ext rpy2.ipython"
   ]
  },
  {
   "cell_type": "markdown",
   "metadata": {},
   "source": [
    "## Print package versions for reproducibility"
   ]
  },
  {
   "cell_type": "markdown",
   "metadata": {},
   "source": [
    "If you want to exactly reproduce the results shown here, please make sure that your package versions match what is printed below. "
   ]
  },
  {
   "cell_type": "code",
   "execution_count": 2,
   "metadata": {
    "ExecuteTime": {
     "end_time": "2020-10-13T13:52:32.001727Z",
     "start_time": "2020-10-13T13:52:31.998046Z"
    }
   },
   "outputs": [
    {
     "name": "stdout",
     "output_type": "stream",
     "text": [
      "cellrank==1.0.0-rc.12 scanpy==1.6.0 anndata==0.7.4 numpy==1.19.2 numba==0.51.2 scipy==1.5.2 pandas==1.1.3 scikit-learn==0.23.2 statsmodels==0.12.0 python-igraph==0.8.3 scvelo==0.2.2 pygam==0.8.0 matplotlib==3.3.2 seaborn==0.11.0\n"
     ]
    }
   ],
   "source": [
    "cr.logging.print_versions()"
   ]
  },
  {
   "cell_type": "markdown",
   "metadata": {},
   "source": [
    "## Set up paths"
   ]
  },
  {
   "cell_type": "markdown",
   "metadata": {},
   "source": [
    "Define the paths to load data, cache results and write figure panels."
   ]
  },
  {
   "cell_type": "code",
   "execution_count": 13,
   "metadata": {
    "ExecuteTime": {
     "end_time": "2020-10-13T13:52:32.008869Z",
     "start_time": "2020-10-13T13:52:32.005147Z"
    }
   },
   "outputs": [],
   "source": [
    "sys.path.insert(0, \"../../../\")  # this depends on the notebook depth and must be adapted per notebook\n",
    "\n",
    "from paths import DATA_DIR, CACHE_DIR, FIG_DIR"
   ]
  },
  {
   "cell_type": "markdown",
   "metadata": {},
   "source": [
    "## Set global parameters"
   ]
  },
  {
   "cell_type": "code",
   "execution_count": 1,
   "metadata": {
    "ExecuteTime": {
     "end_time": "2020-10-13T13:52:32.057855Z",
     "start_time": "2020-10-13T13:52:32.056266Z"
    }
   },
   "outputs": [
    {
     "ename": "NameError",
     "evalue": "name 'DATA_DIR' is not defined",
     "output_type": "error",
     "traceback": [
      "\u001b[0;31m---------------------------------------------------------------------------\u001b[0m",
      "\u001b[0;31mNameError\u001b[0m                                 Traceback (most recent call last)",
      "\u001b[0;32m<ipython-input-1-ae268b975112>\u001b[0m in \u001b[0;36m<module>\u001b[0;34m\u001b[0m\n\u001b[0;32m----> 1\u001b[0;31m \u001b[0mroot\u001b[0m \u001b[0;34m=\u001b[0m \u001b[0mstr\u001b[0m\u001b[0;34m(\u001b[0m\u001b[0mDATA_DIR\u001b[0m \u001b[0;34m/\u001b[0m \u001b[0;34m\"benchmarking\"\u001b[0m \u001b[0;34m/\u001b[0m \u001b[0;34m\"fateid\"\u001b[0m\u001b[0;34m)\u001b[0m\u001b[0;34m\u001b[0m\u001b[0;34m\u001b[0m\u001b[0m\n\u001b[0m",
      "\u001b[0;31mNameError\u001b[0m: name 'DATA_DIR' is not defined"
     ]
    }
   ],
   "source": [
    "root = str(DATA_DIR / \"benchmarking\" / \"fateid\")"
   ]
  },
  {
   "cell_type": "markdown",
   "metadata": {},
   "source": [
    "If there are other global parameters for this analysis, put them here as well. "
   ]
  },
  {
   "cell_type": "markdown",
   "metadata": {},
   "source": [
    "## Define utility functions"
   ]
  },
  {
   "cell_type": "code",
   "execution_count": 9,
   "metadata": {},
   "outputs": [],
   "source": [
    "%%R\n",
    "# copy of plotexpressionProfile which extracts the LOESSed expression\n",
    "extractData <- function (x, y, g, n, logsc = FALSE, col = NULL, name = NULL, cluster = FALSE, alpha = 0.5, lwd = 1, ylim = NULL){\n",
    "    \n",
    "    if ( logsc ){\n",
    "        if ( min(x) == 0 ) x <- x + .1\n",
    "        x <- x/apply(x,1,sum)\n",
    "        x <- log2(x)\n",
    "    }else{\n",
    "        x <- x/apply(x,1,sum)\n",
    "    }\n",
    "    \n",
    "    cl <- unique(y[n])\n",
    "    set.seed(111111)\n",
    "    if (is.null(col)) col <- sample(rainbow(length(n)))\n",
    "    xlim <- c(1, length(n))\n",
    "    z  <- x[g, n]\n",
    "    zc <- z\n",
    "    u <- 1:length(n)\n",
    "       \n",
    "    for ( i in 1:nrow(z) ){\n",
    "        v <- as.vector(t(z[i,]))\n",
    "        k <- predict(loess(v ~ u, span = alpha))\n",
    "        if ( ! logsc ) k[k < 0] <- 0\n",
    "        zc[i,] <- k\n",
    "    }\n",
    "    \n",
    "    return(zc)\n",
    "}\n",
    "\n",
    "dptTraj <- function(x,y,fb,root_idxs,trthr=NULL,distance=\"euclidean\",sigma=1000,...){\n",
    "  trc <- list()\n",
    "  pts <- list()  \n",
    "  for ( j in colnames(fb$probs) ){\n",
    "    if ( ! is.null(trthr) ){\n",
    "      probs <- fb$probs\n",
    "      n  <- rownames(probs)[probs[,j] > trthr]\n",
    "    }else{\n",
    "      votes <- fb$votes\n",
    "      b <- bias(votes)\n",
    "      n  <- rownames(votes)[b$bias[,j] > 1 & b$pv < .05]\n",
    "    }\n",
    "    dm <- destiny::DiffusionMap(as.matrix(t(x[,n])),distance=distance,sigma=sigma,...)\n",
    "    root_idx <- root_idxs[[j]]\n",
    "    pt <- destiny::DPT(dm, root_idx)\n",
    "    pto <- pt[root_idx, ]\n",
    "    \n",
    "    #b <- pt@branch[, 1]\n",
    "    #tip_idx <- which(b==1 & !is.na(b) & pt@tips[, 1])\n",
    "    #pto <- pt[tip_idx, ]\n",
    "    \n",
    "    od <- order(pto,decreasing=FALSE)\n",
    "    n <- n[od]\n",
    "\n",
    "    #ts <- Transitions(as.matrix(t(x[,n])),distance=distance,sigma=sigma,...)\n",
    "    #pt <- dpt::dpt(ts, branching = FALSE)\n",
    "    #n <- n[order(pt$DPT,decreasing=FALSE)]\n",
    "  \n",
    "    if ( median((1:length(n))[y[n] == sub(\"t\",\"\",j)]) < median((1:length(n))[y[n] != sub(\"t\",\"\",j)]) ) {\n",
    "        n <- rev(n)\n",
    "        od <- rev(od)\n",
    "    }\n",
    "    trc[[j]] <- n\n",
    "    pts[[j]] <- pto[od]\n",
    "  }\n",
    "  return(list(trc=trc,pts=pts))\n",
    "}\n",
    "\n",
    "# reason:\n",
    "# Error in bias(votes) : could not find function \"bias\"\n",
    "bias <- function(tvn){\n",
    "  bias <- tvn/apply(tvn,1,function(x) x[order(x,decreasing=TRUE)][2] + 1e-3)\n",
    "  pv <- apply(tvn,1,function(x){ h <- x[order(x,decreasing=TRUE)][1];  l <- x[order(x,decreasing=TRUE)][2]; binom.test( c(h, l), alternative=\"t\" )$p.value})\n",
    "  return(list(bias=bias,pv=pv))\n",
    "}"
   ]
  },
  {
   "cell_type": "code",
   "execution_count": 10,
   "metadata": {},
   "outputs": [],
   "source": [
    "def run_dpt():\n",
    "    adata_preprocessed = cr.datasets.pancreas(DATA_DIR / \"pancreas\" / \"pancreas_preprocessed.h5ad\")\n",
    "    # TODO: this can be removed (already have a DPT in the object)\n",
    "    # del adata_preprocessed.uns[\"neighbors\"]\n",
    "    # adata_preprocessed.uns['iroot'] = np.where(adata_preprocessed.obs_names == 'TGCTACCCAGGGCATA-1-3')[0][0]\n",
    "    # sc.tl.diffmap(adata_preprocessed)\n",
    "    # sc.tl.dpt(adata_preprocessed)\n",
    "    # sc.pl.umap(adata_preprocessed, color='dpt_pseudotime')\n",
    "    \n",
    "    return adata_preprocessed"
   ]
  },
  {
   "cell_type": "markdown",
   "metadata": {},
   "source": [
    "## Load the data"
   ]
  },
  {
   "cell_type": "markdown",
   "metadata": {},
   "source": [
    "Load the AnnData object from the CellRank software package. "
   ]
  },
  {
   "cell_type": "code",
   "execution_count": 19,
   "metadata": {
    "ExecuteTime": {
     "end_time": "2020-10-13T13:53:08.899901Z",
     "start_time": "2020-10-13T13:52:40.350891Z"
    }
   },
   "outputs": [
    {
     "data": {
      "text/plain": [
       "AnnData object with n_obs × n_vars = 2531 × 27998\n",
       "    obs: 'day', 'proliferation', 'G2M_score', 'S_score', 'phase', 'clusters_coarse', 'clusters', 'clusters_fine', 'louvain_Alpha', 'louvain_Beta'\n",
       "    var: 'highly_variable_genes'\n",
       "    uns: 'clusters_colors', 'clusters_fine_colors', 'day_colors', 'louvain_Alpha_colors', 'louvain_Beta_colors', 'pca'\n",
       "    obsm: 'X_pca', 'X_umap'\n",
       "    layers: 'spliced', 'unspliced'\n",
       "    obsp: 'connectivities', 'distances'"
      ]
     },
     "execution_count": 19,
     "metadata": {},
     "output_type": "execute_result"
    }
   ],
   "source": [
    "adata = cr.datasets.pancreas(DATA_DIR / \"pancreas\" / \"pancreas.h5ad\")\n",
    "del adata.uns[\"neighbors\"]  # creshed anndata2ri, we don't need it\n",
    "adata"
   ]
  },
  {
   "cell_type": "markdown",
   "metadata": {},
   "source": [
    "# Analysis"
   ]
  },
  {
   "cell_type": "markdown",
   "metadata": {},
   "source": [
    "## Convert AnnData to SCseq"
   ]
  },
  {
   "cell_type": "code",
   "execution_count": 26,
   "metadata": {},
   "outputs": [
    {
     "name": "stderr",
     "output_type": "stream",
     "text": [
      "R[write to console]: Error in SCseq(X) : could not find function \"SCseq\"\n",
      "\n"
     ]
    },
    {
     "name": "stdout",
     "output_type": "stream",
     "text": [
      "\n",
      "Error in SCseq(X) : could not find function \"SCseq\"\n"
     ]
    }
   ],
   "source": [
    "%%R -i adata -i root\n",
    "out_dir = root\n",
    "X <- adata@assays@data[['X']]  # X, spliced, unspliced\n",
    "rownames(X) <- rownames(adata)\n",
    "colnames(X) <- colnames(adata)\n",
    "# The raw expression data matrix with cells as columns and genes as rows in sparse matrix format.\n",
    "sc <- SCseq(X)"
   ]
  },
  {
   "cell_type": "markdown",
   "metadata": {},
   "source": [
    "## Filter, cluster and compute the embedding"
   ]
  },
  {
   "cell_type": "code",
   "execution_count": null,
   "metadata": {},
   "outputs": [],
   "source": [
    "%%R\n",
    "sc <- filterdata(sc, mintotal=10)\n",
    "sc <- compdist(sc, metric=\"logpearson\")\n",
    "sc <- clustexp(sc, samp=1000)\n",
    "sc <- findoutliers(sc)\n",
    "sc <- comptsne(sc)"
   ]
  },
  {
   "cell_type": "markdown",
   "metadata": {},
   "source": [
    "## Extract data needed for fateBias"
   ]
  },
  {
   "cell_type": "code",
   "execution_count": null,
   "metadata": {},
   "outputs": [],
   "source": [
    "%%R\n",
    "x <- as.matrix(getfdata(sc)[sc@cluster$features,])\n",
    "print(dim(x))\n",
    "genes <- c(\"Pax4\", \"Pdx1\", \"Arx\", \"Peg10\", \"Irs4\" ,\"Ghrl\", \"Hhex\", \"Cd24a\")\n",
    "for (gene in genes) {\n",
    "    if (!gene %in% rownames(x)) {\n",
    "        print(gene)\n",
    "        rnames <- rownames(x)\n",
    "        x <- rbind(x, getfdata(sc)[gene,])\n",
    "        rownames(x) <- c(rnames, gene)\n",
    "    }\n",
    "}\n",
    "for (gene in genes) {\n",
    "    if (!gene %in% rownames(x)) {\n",
    "        print(gene)\n",
    "    }\n",
    "}\n",
    "print(dim(x))\n",
    "\n",
    "markers <- list(Beta=c(\"Ins1\"), Alpha=c(\"Gcg\"), Epsilon=c(\"Ghrl\"), Delta=c(\"Sst\"))\n",
    "\n",
    "# cell type partition based, n - positive integer number. For each component of FMarker the expression\n",
    "# of all genes is aggregated in every cell and the n top-expressing cells are extracted.\n",
    "pa <- getPart(x, markers, n=50)\n",
    "\n",
    "# A vector with a partitioning, i. e. cluster assignment for each cell\n",
    "clustering <- pa$part\n",
    "# A vector with the numbers of target (end point) clusters.\n",
    "# Cluster 1 comprises all cells with no enrichment of marker genes\n",
    "endpoints <- pa$tar\n",
    "z <- sc@distances"
   ]
  },
  {
   "cell_type": "markdown",
   "metadata": {},
   "source": [
    "## Run fateBias"
   ]
  },
  {
   "cell_type": "code",
   "execution_count": null,
   "metadata": {},
   "outputs": [],
   "source": [
    "%%R\n",
    "# fateBias(x, y, tar, z=NULL, minnr=5, minnrh=10, adapt=TRUE, confidence=0.75, nbfactor=5, use.dist=FALSE, seed=12345, nbtree=NULL)\n",
    "# minr - step size of the algo (test size - number of cells to be classified per end point, recommended 5)\n",
    "# minnrh - cells used for training (can be inf to use all previous cells, recommended: 20)\n",
    "# x - data representation (e.g. could be only HVGs, PCA, ...)\n",
    "\n",
    "# as.matrix(x) necessary if use.dist=FALSE\n",
    "fb  <- fateBias(as.matrix(x), clustering, endpoints, z=z, minnr=5, minnrh=20, seed=123, use.dist=FALSE)"
   ]
  },
  {
   "cell_type": "markdown",
   "metadata": {},
   "source": [
    "### Extract the values"
   ]
  },
  {
   "cell_type": "code",
   "execution_count": null,
   "metadata": {},
   "outputs": [],
   "source": [
    "%%R -o res\n",
    "trthr = 0.15  # fate bias threshold\n",
    "res = list()\n",
    "for ( j in colnames(fb$probs) ){\n",
    "  probs <- fb$probs\n",
    "  n  <- rownames(probs)[probs[,j] > trthr]\n",
    "  res[[j]] = n\n",
    "}"
   ]
  },
  {
   "cell_type": "markdown",
   "metadata": {},
   "source": [
    "### Identify root cells witin each lineage"
   ]
  },
  {
   "cell_type": "code",
   "execution_count": null,
   "metadata": {},
   "outputs": [],
   "source": [
    "adata_preprocessed = run_dpt()\n",
    "root_names = []\n",
    "\n",
    "for i in range(2, 6):\n",
    "    indices = res.rx2(f\"t{i}\")\n",
    "    tmp = adata_preprocessed[indices].obs['dpt_pseudotime']\n",
    "    ix = tmp.argmin()\n",
    "    root_names.append(tmp.index[ix])\n",
    "    \n",
    "print(root_names)\n",
    "\n",
    "root_ixs = []\n",
    "for root_name, key in zip(root_names, [f\"t{i}\" for i in range(2, 6)]):\n",
    "    # +1 because R indexes from 1\n",
    "    root_ixs.append(np.where(res.rx2(key) == root_name)[0][0] + 1)\n",
    "root_ixs = dict(zip([f\"t{i}\" for i in range(2, 6)], root_ixs))\n",
    "print(root_ixs)\n",
    "root_ixs = ListVector(root_ixs)"
   ]
  },
  {
   "cell_type": "markdown",
   "metadata": {},
   "source": [
    "## Run DPT"
   ]
  },
  {
   "cell_type": "code",
   "execution_count": null,
   "metadata": {},
   "outputs": [],
   "source": [
    "%%R -i root_ixs\n",
    "trc <- dptTraj(as.matrix(x), clustering, fb, root_ixs, trthr=trthr, distance=\"euclidean\")\n",
    "pts <- trc[['pts']]\n",
    "trc <- trc[['trc']]\n",
    "names(trc) <- c('Beta', 'Alpha', 'Epsilon', 'Delta')\n",
    "names(pts) <- c('Beta', 'Alpha', 'Epsilon', 'Delta')"
   ]
  },
  {
   "cell_type": "markdown",
   "metadata": {},
   "source": [
    "## Extract and save the data for plotting"
   ]
  },
  {
   "cell_type": "markdown",
   "metadata": {},
   "source": [
    "### Save the smoothed expression values and DPT"
   ]
  },
  {
   "cell_type": "code",
   "execution_count": null,
   "metadata": {},
   "outputs": [],
   "source": [
    "%%R\n",
    "for (lineage in names(trc)) {\n",
    "    n <- trc[[lineage]]\n",
    "    fs <- filterset(x,n=n, minexpr=0)\n",
    "    for (gene in genes) {\n",
    "        stopifnot(gene %in% rownames(fs))\n",
    "    }\n",
    "    # this is the same as plotexpressionProfile, but we return the LOESS'd data\n",
    "    tmp <- extractData(as.matrix(x), clustering, g=genes, n=n, cluster=FALSE, logsc=FALSE)\n",
    "    \n",
    "    write.csv(t(tmp), paste0(out_dir, \"/\", lineage, \".csv\"))\n",
    "    write.csv(pts[[lineage]], paste0(out_dir, \"/\", lineage, \"_pt.csv\"))\n",
    "    write.csv(trc[[lineage]], paste0(out_dir, \"/\", lineage, \"_ixs.csv\"))\n",
    "}"
   ]
  },
  {
   "cell_type": "markdown",
   "metadata": {},
   "source": [
    "### Save fate biases and TSNE"
   ]
  },
  {
   "cell_type": "code",
   "execution_count": null,
   "metadata": {},
   "outputs": [],
   "source": [
    "%%R\n",
    "# taken from Palantir's notebooks\n",
    "write.csv(sc@tsne, paste0(out_dir, \"/\", \"tsne.csv\"))\n",
    "write.csv(fb$probs, paste0(out_dir, \"/\", \"probs.csv\"))\n",
    "write.csv(sc@cluster$kpart, paste0(out_dir, \"/\", \"clusters.csv\"))\n",
    "for (i in 1:length(markers)){\n",
    "    order = fb$tr[sprintf(\"t%d\", i+1)]\n",
    "    write.csv(order, sprintf(\"%s/%s_order.csv\", out_dir, names(markers)[i]))\n",
    "}"
   ]
  },
  {
   "cell_type": "markdown",
   "metadata": {},
   "source": [
    "## Visualize smoothed trends for the Delta lineage"
   ]
  },
  {
   "cell_type": "code",
   "execution_count": 15,
   "metadata": {
    "collapsed": true
   },
   "outputs": [
    {
     "name": "stderr",
     "output_type": "stream",
     "text": [
      "R[write to console]: Error in print(lineage) : object 'lineage' not found\n",
      "\n",
      "R[write to console]: In addition: \n",
      "R[write to console]: Warning message:\n",
      "\n",
      "R[write to console]: In (function (package, help, pos = 2, lib.loc = NULL, character.only = FALSE,  :\n",
      "R[write to console]: \n",
      " \n",
      "R[write to console]:  library ‘/usr/local/lib/R/site-library’ contains no packages\n",
      "\n"
     ]
    },
    {
     "name": "stdout",
     "output_type": "stream",
     "text": [
      "\n",
      "Error in print(lineage) : object 'lineage' not found\n"
     ]
    }
   ],
   "source": [
    "%%R\n",
    "print(lineage)\n",
    "for (gene in genes) {\n",
    "    stopifnot(gene %in% rownames(x))\n",
    "}\n",
    "plotexpressionProfile(x, clustering, n=n, g=genes, cluster=FALSE, logsc=FALSE)"
   ]
  }
 ],
 "metadata": {
  "kernelspec": {
   "display_name": "cellrank",
   "language": "python",
   "name": "cellrank"
  },
  "language_info": {
   "codemirror_mode": {
    "name": "ipython",
    "version": 3
   },
   "file_extension": ".py",
   "mimetype": "text/x-python",
   "name": "python",
   "nbconvert_exporter": "python",
   "pygments_lexer": "ipython3",
   "version": "3.8.5"
  },
  "toc": {
   "base_numbering": 1,
   "nav_menu": {},
   "number_sections": true,
   "sideBar": true,
   "skip_h1_title": false,
   "title_cell": "Table of Contents",
   "title_sidebar": "Contents",
   "toc_cell": false,
   "toc_position": {
    "height": "calc(100% - 180px)",
    "left": "10px",
    "top": "150px",
    "width": "288px"
   },
   "toc_section_display": true,
   "toc_window_display": true
  }
 },
 "nbformat": 4,
 "nbformat_minor": 4
}

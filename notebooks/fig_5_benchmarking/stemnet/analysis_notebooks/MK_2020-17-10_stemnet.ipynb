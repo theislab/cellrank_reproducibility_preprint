{
 "cells": [
  {
   "cell_type": "markdown",
   "metadata": {},
   "source": [
    "Fig. 5: Benchmark STEMNET\n",
    "---\n",
    "\n",
    "In this notebook, we extract STEMNET's fate probabilities."
   ]
  },
  {
   "cell_type": "markdown",
   "metadata": {},
   "source": [
    "# Preliminaries"
   ]
  },
  {
   "cell_type": "markdown",
   "metadata": {},
   "source": [
    "## Import packages"
   ]
  },
  {
   "cell_type": "code",
   "execution_count": 1,
   "metadata": {
    "ExecuteTime": {
     "end_time": "2020-06-24T12:45:54.992164Z",
     "start_time": "2020-06-24T12:45:49.333748Z"
    }
   },
   "outputs": [],
   "source": [
    "# import standard packages\n",
    "import os\n",
    "import sys\n",
    "\n",
    "import pandas as pd\n",
    "\n",
    "# import single-cell packages\n",
    "import cellrank as cr\n",
    "import scanpy as sc\n",
    "import scvelo as scv\n",
    "import anndata2ri\n",
    "\n",
    "anndata2ri.activate()\n",
    "%load_ext rpy2.ipython"
   ]
  },
  {
   "cell_type": "code",
   "execution_count": 4,
   "metadata": {
    "ExecuteTime": {
     "end_time": "2020-06-24T12:45:55.129940Z",
     "start_time": "2020-06-24T12:45:54.995925Z"
    }
   },
   "outputs": [],
   "source": [
    "%%R\n",
    "library(STEMNET)"
   ]
  },
  {
   "cell_type": "markdown",
   "metadata": {},
   "source": [
    "## Print package versions for reproducibility"
   ]
  },
  {
   "cell_type": "code",
   "execution_count": 3,
   "metadata": {},
   "outputs": [
    {
     "name": "stdout",
     "output_type": "stream",
     "text": [
      "cellrank==1.0.0-rc.12+gb3e00a8 scanpy==1.6.0 anndata==0.7.4 numpy==1.19.2 numba==0.51.2 scipy==1.5.2 pandas==1.1.3 scikit-learn==0.23.2 statsmodels==0.12.0 python-igraph==0.8.3 scvelo==0.2.3.dev26+g8351f46 pygam==0.8.0 matplotlib==3.3.2 seaborn==0.11.0\n"
     ]
    }
   ],
   "source": [
    "cr.logging.print_versions()"
   ]
  },
  {
   "cell_type": "code",
   "execution_count": 5,
   "metadata": {},
   "outputs": [
    {
     "name": "stdout",
     "output_type": "stream",
     "text": [
      "[1] ‘0.1’\n"
     ]
    }
   ],
   "source": [
    "%%R\n",
    "packageVersion(\"STEMNET\")"
   ]
  },
  {
   "cell_type": "markdown",
   "metadata": {},
   "source": [
    "## Set up paths"
   ]
  },
  {
   "cell_type": "code",
   "execution_count": 9,
   "metadata": {},
   "outputs": [],
   "source": [
    "sys.path.insert(0, \"../../../../\")  # this depends on the notebook depth and must be adapted per notebook\n",
    "\n",
    "from paths import DATA_DIR"
   ]
  },
  {
   "cell_type": "markdown",
   "metadata": {},
   "source": [
    "## Load the data"
   ]
  },
  {
   "cell_type": "code",
   "execution_count": 3,
   "metadata": {
    "ExecuteTime": {
     "end_time": "2020-06-24T12:45:56.391607Z",
     "start_time": "2020-06-24T12:45:55.139828Z"
    }
   },
   "outputs": [
    {
     "data": {
      "text/plain": [
       "AnnData object with n_obs × n_vars = 2531 × 27998\n",
       "    obs: 'day', 'proliferation', 'G2M_score', 'S_score', 'phase', 'clusters_coarse', 'clusters', 'clusters_fine', 'louvain_Alpha', 'louvain_Beta'\n",
       "    var: 'highly_variable_genes'\n",
       "    uns: 'clusters_colors', 'clusters_fine_colors', 'day_colors', 'louvain_Alpha_colors', 'louvain_Beta_colors', 'pca'\n",
       "    obsm: 'X_pca', 'X_umap'\n",
       "    layers: 'spliced', 'unspliced'\n",
       "    obsp: 'connectivities', 'distances'"
      ]
     },
     "execution_count": 3,
     "metadata": {},
     "output_type": "execute_result"
    }
   ],
   "source": [
    "adata = cr.datasets.pancreas(DATA_DIR / \"pancreas\" / \"pancreas.h5ad\")\n",
    "del adata.uns['neighbors']  # crashes anndata2ri\n",
    "adata"
   ]
  },
  {
   "cell_type": "markdown",
   "metadata": {
    "ExecuteTime": {
     "end_time": "2020-06-24T12:04:55.423918Z",
     "start_time": "2020-06-24T12:04:55.415668Z"
    }
   },
   "source": [
    "### Preprocess the data"
   ]
  },
  {
   "cell_type": "code",
   "execution_count": 4,
   "metadata": {
    "ExecuteTime": {
     "end_time": "2020-06-24T12:45:59.510982Z",
     "start_time": "2020-06-24T12:45:56.394660Z"
    }
   },
   "outputs": [
    {
     "name": "stdout",
     "output_type": "stream",
     "text": [
      "Filtered out 20788 genes that are detected 10 counts (shared).\n",
      "Normalized count data: X, spliced, unspliced.\n",
      "Exctracted 3000 highly variable genes.\n",
      "Logarithmized X.\n"
     ]
    }
   ],
   "source": [
    "scv.pp.filter_and_normalize(adata, min_shared_counts=10, n_top_genes=3000)"
   ]
  },
  {
   "cell_type": "markdown",
   "metadata": {},
   "source": [
    "### Extract cluster information for STEMNET"
   ]
  },
  {
   "cell_type": "code",
   "execution_count": 5,
   "metadata": {
    "ExecuteTime": {
     "end_time": "2020-06-24T12:45:59.542207Z",
     "start_time": "2020-06-24T12:45:59.516529Z"
    }
   },
   "outputs": [],
   "source": [
    "clusters = ['Alpha', 'Beta', 'Epsilon', 'Delta']\n",
    "cluster_pop = pd.DataFrame(dict(zip(clusters, [adata.obs['clusters_fine'].isin([c]) for c in clusters])))"
   ]
  },
  {
   "cell_type": "markdown",
   "metadata": {},
   "source": [
    "# Analysis"
   ]
  },
  {
   "cell_type": "markdown",
   "metadata": {},
   "source": [
    "## Convert the data"
   ]
  },
  {
   "cell_type": "code",
   "execution_count": 7,
   "metadata": {
    "ExecuteTime": {
     "end_time": "2020-06-24T12:46:27.591929Z",
     "start_time": "2020-06-24T12:46:25.783443Z"
    }
   },
   "outputs": [],
   "source": [
    "%%R -i cluster_pop -i adata\n",
    "pop <- booleanTable2Character(cluster_pop, other_value=NA)\n",
    "expression <- t(as.matrix(adata@assays@data[['X']]))  # cells x gene"
   ]
  },
  {
   "cell_type": "markdown",
   "metadata": {},
   "source": [
    "## Run STEMNET"
   ]
  },
  {
   "cell_type": "code",
   "execution_count": 8,
   "metadata": {
    "ExecuteTime": {
     "end_time": "2020-06-24T12:47:06.478526Z",
     "start_time": "2020-06-24T12:46:27.596031Z"
    }
   },
   "outputs": [
    {
     "name": "stderr",
     "output_type": "stream",
     "text": [
      "R[write to console]: At an optimal value of lambda, the misclassification rate for mature populations is 2.19%.\n",
      "\n"
     ]
    }
   ],
   "source": [
    "%%R\n",
    "result <- runSTEMNET(expression, pop)"
   ]
  },
  {
   "cell_type": "markdown",
   "metadata": {},
   "source": [
    "## Print the results"
   ]
  },
  {
   "cell_type": "code",
   "execution_count": 9,
   "metadata": {
    "ExecuteTime": {
     "end_time": "2020-06-24T12:47:06.566508Z",
     "start_time": "2020-06-24T12:47:06.482561Z"
    }
   },
   "outputs": [
    {
     "name": "stdout",
     "output_type": "stream",
     "text": [
      "Object of class stemnet with 1755 stem cells and 776 mature cells assigned to one of 4 target populations of the following sizes:\n",
      "\n",
      "  Alpha    Beta   Delta Epsilon \n",
      "    259     308      70     139 \n",
      "At an optimal value of lambda, the misclassification rate for mature populations is  2.19 %.\n",
      "Posterior probability matrix (truncated):\n",
      "          Alpha       Beta      Delta    Epsilon\n",
      "[1,] 0.30170666 0.32956571 0.17114554 0.19758209\n",
      "[2,] 0.43379233 0.23734492 0.09273911 0.23612364\n",
      "[3,] 0.18556265 0.37417405 0.06436661 0.37589668\n",
      "[4,] 0.88067863 0.03276495 0.02337865 0.06317778\n",
      "[5,] 0.04970928 0.15549984 0.74896418 0.04582670\n",
      "[6,] 0.11588795 0.78105586 0.04637508 0.05668112\n"
     ]
    }
   ],
   "source": [
    "%%R\n",
    "print(result)"
   ]
  },
  {
   "cell_type": "markdown",
   "metadata": {},
   "source": [
    "## Extract the probabilities"
   ]
  },
  {
   "cell_type": "code",
   "execution_count": 10,
   "metadata": {
    "ExecuteTime": {
     "end_time": "2020-06-24T12:47:06.674362Z",
     "start_time": "2020-06-24T12:47:06.568585Z"
    }
   },
   "outputs": [],
   "source": [
    "%%R -o probs\n",
    "probs <- (result@posteriors)"
   ]
  },
  {
   "cell_type": "markdown",
   "metadata": {},
   "source": [
    "Create a CellRank Lineage object."
   ]
  },
  {
   "cell_type": "code",
   "execution_count": 11,
   "metadata": {
    "ExecuteTime": {
     "end_time": "2020-06-24T12:47:06.765713Z",
     "start_time": "2020-06-24T12:47:06.676710Z"
    }
   },
   "outputs": [],
   "source": [
    "slin = cr.tl.Lineage(probs, names=clusters)\n",
    "adata.obsm['stemnet_final_states'] = slin"
   ]
  },
  {
   "cell_type": "markdown",
   "metadata": {},
   "source": [
    "## Save the results"
   ]
  },
  {
   "cell_type": "code",
   "execution_count": 15,
   "metadata": {
    "ExecuteTime": {
     "end_time": "2020-06-24T12:47:11.017958Z",
     "start_time": "2020-06-24T12:47:09.241833Z"
    }
   },
   "outputs": [],
   "source": [
    "sc.write(DATA_DIR / \"benchmarking\" / \"stemnet\" / \"adata.h5ad\", adata)"
   ]
  }
 ],
 "metadata": {
  "kernelspec": {
   "display_name": "cellrank",
   "language": "python",
   "name": "cellrank"
  },
  "language_info": {
   "codemirror_mode": {
    "name": "ipython",
    "version": 3
   },
   "file_extension": ".py",
   "mimetype": "text/x-python",
   "name": "python",
   "nbconvert_exporter": "python",
   "pygments_lexer": "ipython3",
   "version": "3.8.5"
  },
  "toc": {
   "base_numbering": 1,
   "nav_menu": {},
   "number_sections": true,
   "sideBar": true,
   "skip_h1_title": false,
   "title_cell": "Table of Contents",
   "title_sidebar": "Contents",
   "toc_cell": false,
   "toc_position": {},
   "toc_section_display": true,
   "toc_window_display": false
  },
  "varInspector": {
   "cols": {
    "lenName": 16,
    "lenType": 16,
    "lenVar": 40
   },
   "kernels_config": {
    "python": {
     "delete_cmd_postfix": "",
     "delete_cmd_prefix": "del ",
     "library": "var_list.py",
     "varRefreshCmd": "print(var_dic_list())"
    },
    "r": {
     "delete_cmd_postfix": ") ",
     "delete_cmd_prefix": "rm(",
     "library": "var_list.r",
     "varRefreshCmd": "cat(var_dic_list()) "
    }
   },
   "types_to_exclude": [
    "module",
    "function",
    "builtin_function_or_method",
    "instance",
    "_Feature"
   ],
   "window_display": false
  }
 },
 "nbformat": 4,
 "nbformat_minor": 4
}

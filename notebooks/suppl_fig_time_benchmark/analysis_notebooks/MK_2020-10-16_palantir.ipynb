{
 "cells": [
  {
   "cell_type": "markdown",
   "metadata": {
    "ExecuteTime": {
     "end_time": "2020-10-16T12:49:24.158172Z",
     "start_time": "2020-10-16T12:49:24.152514Z"
    }
   },
   "source": [
    "Benchmark Palantir runtime\n",
    "---"
   ]
  },
  {
   "cell_type": "code",
   "execution_count": null,
   "metadata": {},
   "outputs": [],
   "source": [
    "In this notebook, we benchmark the runtime of `run_palantir` function. We "
   ]
  },
  {
   "cell_type": "markdown",
   "metadata": {},
   "source": [
    "# Preliminaries"
   ]
  },
  {
   "cell_type": "markdown",
   "metadata": {},
   "source": [
    "## Dependency notebooks"
   ]
  },
  {
   "cell_type": "markdown",
   "metadata": {},
   "source": [
    "1. [MK_2020-10-16_gpcca.ipynb](MK_2020-10-16_gpcca.ipynb) - to extract the terminal states"
   ]
  },
  {
   "cell_type": "markdown",
   "metadata": {},
   "source": [
    "## Import packages"
   ]
  },
  {
   "cell_type": "code",
   "execution_count": 9,
   "metadata": {
    "ExecuteTime": {
     "end_time": "2020-10-16T13:05:52.835725Z",
     "start_time": "2020-10-16T13:05:52.826515Z"
    }
   },
   "outputs": [],
   "source": [
    "# import standard packages\n",
    "from pathlib import Path\n",
    "from collections import defaultdict\n",
    "from math import ceil\n",
    "import sys\n",
    "import pickle\n",
    "\n",
    "import pandas as pd\n",
    "\n",
    "# import single-cell packages\n",
    "import scanpy as sc\n",
    "import scvelo as scv\n",
    "import palantir\n",
    "\n",
    "# import utilities\n",
    "import utils.utilities as ul"
   ]
  },
  {
   "cell_type": "markdown",
   "metadata": {},
   "source": [
    "## Print package versions for reproducibility"
   ]
  },
  {
   "cell_type": "code",
   "execution_count": 6,
   "metadata": {
    "ExecuteTime": {
     "end_time": "2020-10-16T12:53:38.317226Z",
     "start_time": "2020-10-16T12:53:38.309561Z"
    }
   },
   "outputs": [
    {
     "name": "stdout",
     "output_type": "stream",
     "text": [
      "scanpy==1.6.0 anndata==0.7.4 umap==0.4.6 numpy==1.19.2 scipy==1.5.2 pandas==1.1.3 scikit-learn==0.23.2 statsmodels==0.12.0 python-igraph==0.8.2 louvain==0.7.0 leidenalg==0.8.2\n"
     ]
    },
    {
     "data": {
      "text/plain": [
       "'1.0.0'"
      ]
     },
     "execution_count": 6,
     "metadata": {},
     "output_type": "execute_result"
    }
   ],
   "source": [
    "sc.logging.print_header()\n",
    "palantir.__version__"
   ]
  },
  {
   "cell_type": "markdown",
   "metadata": {},
   "source": [
    "## Set up paths"
   ]
  },
  {
   "cell_type": "code",
   "execution_count": 8,
   "metadata": {
    "ExecuteTime": {
     "end_time": "2020-10-16T12:55:25.787143Z",
     "start_time": "2020-10-16T12:55:25.780357Z"
    }
   },
   "outputs": [],
   "source": [
    "sys.path.insert(0, \"../../..\")  # this depends on the notebook depth and must be adapted per notebook\n",
    "\n",
    "from paths import DATA_DIR"
   ]
  },
  {
   "cell_type": "markdown",
   "metadata": {},
   "source": [
    "## Load the data"
   ]
  },
  {
   "cell_type": "markdown",
   "metadata": {},
   "source": [
    "Load the raw data."
   ]
  },
  {
   "cell_type": "code",
   "execution_count": 2,
   "metadata": {
    "ExecuteTime": {
     "end_time": "2020-10-02T15:35:42.537730Z",
     "start_time": "2020-10-02T15:33:58.068008Z"
    }
   },
   "outputs": [
    {
     "data": {
      "text/plain": [
       "AnnData object with n_obs × n_vars = 104679 × 22630\n",
       "    obs: 'batch'\n",
       "    var: 'Accession', 'Chromosome', 'End', 'Start', 'Strand'"
      ]
     },
     "execution_count": 2,
     "metadata": {},
     "output_type": "execute_result"
    }
   ],
   "source": [
    "adata = sc.read(DATA_DIR / \"morris_data\" / \"adata.h5ad\")\n",
    "del adata.layers  # we don't need these\n",
    "adata"
   ]
  },
  {
   "cell_type": "markdown",
   "metadata": {},
   "source": [
    "### Load supplementary information data"
   ]
  },
  {
   "cell_type": "markdown",
   "metadata": {},
   "source": [
    "This is to get the `Reprogramming Day` annotation, which we use to get the root cell."
   ]
  },
  {
   "cell_type": "code",
   "execution_count": 3,
   "metadata": {
    "ExecuteTime": {
     "end_time": "2020-10-02T15:35:43.460300Z",
     "start_time": "2020-10-02T15:35:42.720090Z"
    }
   },
   "outputs": [
    {
     "data": {
      "text/html": [
       "<div>\n",
       "<style scoped>\n",
       "    .dataframe tbody tr th:only-of-type {\n",
       "        vertical-align: middle;\n",
       "    }\n",
       "\n",
       "    .dataframe tbody tr th {\n",
       "        vertical-align: top;\n",
       "    }\n",
       "\n",
       "    .dataframe thead th {\n",
       "        text-align: right;\n",
       "    }\n",
       "</style>\n",
       "<table border=\"1\" class=\"dataframe\">\n",
       "  <thead>\n",
       "    <tr style=\"text-align: right;\">\n",
       "      <th></th>\n",
       "      <th>Genes</th>\n",
       "      <th>UMIs</th>\n",
       "      <th>% Mitochondrial RNA</th>\n",
       "      <th>Cell Cycle Phase</th>\n",
       "      <th>Timecourse</th>\n",
       "      <th>Reprogramming Day</th>\n",
       "      <th>CellTagMEF</th>\n",
       "      <th>CellTagD3</th>\n",
       "      <th>CellTagD13</th>\n",
       "      <th>CellTagMEF.1</th>\n",
       "      <th>CellTagD3.1</th>\n",
       "      <th>CellTagD13.1</th>\n",
       "    </tr>\n",
       "    <tr>\n",
       "      <th>Cell ID</th>\n",
       "      <th></th>\n",
       "      <th></th>\n",
       "      <th></th>\n",
       "      <th></th>\n",
       "      <th></th>\n",
       "      <th></th>\n",
       "      <th></th>\n",
       "      <th></th>\n",
       "      <th></th>\n",
       "      <th></th>\n",
       "      <th></th>\n",
       "      <th></th>\n",
       "    </tr>\n",
       "  </thead>\n",
       "  <tbody>\n",
       "    <tr>\n",
       "      <th>_HF-1_AGAATAGGTAGCGCTC-1</th>\n",
       "      <td>4,551</td>\n",
       "      <td>6,497</td>\n",
       "      <td>7.30</td>\n",
       "      <td>G1</td>\n",
       "      <td>1</td>\n",
       "      <td>0</td>\n",
       "      <td>16.0</td>\n",
       "      <td>NaN</td>\n",
       "      <td>NaN</td>\n",
       "      <td>16.0</td>\n",
       "      <td>NaN</td>\n",
       "      <td>NaN</td>\n",
       "    </tr>\n",
       "    <tr>\n",
       "      <th>_HF-1_AGGTCCGTCAACACGT-1</th>\n",
       "      <td>4,625</td>\n",
       "      <td>6,726</td>\n",
       "      <td>7.39</td>\n",
       "      <td>G1</td>\n",
       "      <td>1</td>\n",
       "      <td>0</td>\n",
       "      <td>20.0</td>\n",
       "      <td>NaN</td>\n",
       "      <td>NaN</td>\n",
       "      <td>20.0</td>\n",
       "      <td>NaN</td>\n",
       "      <td>NaN</td>\n",
       "    </tr>\n",
       "    <tr>\n",
       "      <th>_HF-1_CACATAGGTTCCCTTG-1</th>\n",
       "      <td>5,488</td>\n",
       "      <td>6,869</td>\n",
       "      <td>6.03</td>\n",
       "      <td>G1</td>\n",
       "      <td>1</td>\n",
       "      <td>0</td>\n",
       "      <td>31.0</td>\n",
       "      <td>NaN</td>\n",
       "      <td>NaN</td>\n",
       "      <td>31.0</td>\n",
       "      <td>NaN</td>\n",
       "      <td>NaN</td>\n",
       "    </tr>\n",
       "    <tr>\n",
       "      <th>_HF-1_CCAGCGACAGAGCCAA-1</th>\n",
       "      <td>5,549</td>\n",
       "      <td>6,995</td>\n",
       "      <td>7.07</td>\n",
       "      <td>G1</td>\n",
       "      <td>1</td>\n",
       "      <td>0</td>\n",
       "      <td>39.0</td>\n",
       "      <td>NaN</td>\n",
       "      <td>NaN</td>\n",
       "      <td>39.0</td>\n",
       "      <td>NaN</td>\n",
       "      <td>NaN</td>\n",
       "    </tr>\n",
       "    <tr>\n",
       "      <th>_HF-1_CCGGTAGCACGTGAGA-1</th>\n",
       "      <td>4,901</td>\n",
       "      <td>6,541</td>\n",
       "      <td>7.03</td>\n",
       "      <td>G1</td>\n",
       "      <td>1</td>\n",
       "      <td>0</td>\n",
       "      <td>NaN</td>\n",
       "      <td>NaN</td>\n",
       "      <td>NaN</td>\n",
       "      <td>NaN</td>\n",
       "      <td>NaN</td>\n",
       "      <td>NaN</td>\n",
       "    </tr>\n",
       "  </tbody>\n",
       "</table>\n",
       "</div>"
      ],
      "text/plain": [
       "                          Genes   UMIs  % Mitochondrial RNA Cell Cycle Phase  \\\n",
       "Cell ID                                                                        \n",
       "_HF-1_AGAATAGGTAGCGCTC-1  4,551  6,497                 7.30               G1   \n",
       "_HF-1_AGGTCCGTCAACACGT-1  4,625  6,726                 7.39               G1   \n",
       "_HF-1_CACATAGGTTCCCTTG-1  5,488  6,869                 6.03               G1   \n",
       "_HF-1_CCAGCGACAGAGCCAA-1  5,549  6,995                 7.07               G1   \n",
       "_HF-1_CCGGTAGCACGTGAGA-1  4,901  6,541                 7.03               G1   \n",
       "\n",
       "                          Timecourse  Reprogramming Day  CellTagMEF  \\\n",
       "Cell ID                                                               \n",
       "_HF-1_AGAATAGGTAGCGCTC-1           1                  0        16.0   \n",
       "_HF-1_AGGTCCGTCAACACGT-1           1                  0        20.0   \n",
       "_HF-1_CACATAGGTTCCCTTG-1           1                  0        31.0   \n",
       "_HF-1_CCAGCGACAGAGCCAA-1           1                  0        39.0   \n",
       "_HF-1_CCGGTAGCACGTGAGA-1           1                  0         NaN   \n",
       "\n",
       "                          CellTagD3  CellTagD13  CellTagMEF.1  CellTagD3.1  \\\n",
       "Cell ID                                                                      \n",
       "_HF-1_AGAATAGGTAGCGCTC-1        NaN         NaN          16.0          NaN   \n",
       "_HF-1_AGGTCCGTCAACACGT-1        NaN         NaN          20.0          NaN   \n",
       "_HF-1_CACATAGGTTCCCTTG-1        NaN         NaN          31.0          NaN   \n",
       "_HF-1_CCAGCGACAGAGCCAA-1        NaN         NaN          39.0          NaN   \n",
       "_HF-1_CCGGTAGCACGTGAGA-1        NaN         NaN           NaN          NaN   \n",
       "\n",
       "                          CellTagD13.1  \n",
       "Cell ID                                 \n",
       "_HF-1_AGAATAGGTAGCGCTC-1           NaN  \n",
       "_HF-1_AGGTCCGTCAACACGT-1           NaN  \n",
       "_HF-1_CACATAGGTTCCCTTG-1           NaN  \n",
       "_HF-1_CCAGCGACAGAGCCAA-1           NaN  \n",
       "_HF-1_CCGGTAGCACGTGAGA-1           NaN  "
      ]
     },
     "execution_count": 3,
     "metadata": {},
     "output_type": "execute_result"
    }
   ],
   "source": [
    "annot = pd.read_csv(DATA_DIR  \"morris_data\" / \"annotations\" / \"supp_table_4.csv\", index_col=0, header=2)\n",
    "annot.head()"
   ]
  },
  {
   "cell_type": "markdown",
   "metadata": {},
   "source": [
    "### Load the subsets and splits"
   ]
  },
  {
   "cell_type": "code",
   "execution_count": null,
   "metadata": {},
   "outputs": [],
   "source": [
    "dfs = ul.get_split(DATA_DIR / \"morris_data\" / \"splits\")\n",
    "list(dfs.keys())"
   ]
  },
  {
   "cell_type": "markdown",
   "metadata": {},
   "source": [
    "## Define utility functions"
   ]
  },
  {
   "cell_type": "code",
   "execution_count": 4,
   "metadata": {
    "ExecuteTime": {
     "end_time": "2020-10-02T15:35:43.714201Z",
     "start_time": "2020-10-02T15:35:43.703160Z"
    }
   },
   "outputs": [],
   "source": [
    "def clean_orig_names(series):\n",
    "    return np.array(list(map(np.array, series.str.split(\":\"))))[:, 1]"
   ]
  },
  {
   "cell_type": "code",
   "execution_count": 5,
   "metadata": {
    "ExecuteTime": {
     "end_time": "2020-10-02T15:35:43.968076Z",
     "start_time": "2020-10-02T15:35:43.935592Z"
    }
   },
   "outputs": [],
   "source": [
    "def add_annotations(adata, annot):\n",
    "    adata.obs['genes_cleaned'] = clean_orig_names(adata.obs.index)\n",
    "    assert len(set(adata.obs['genes_cleaned'])) == len(adata)\n",
    "    \n",
    "    annot['genes_cleaned'] = np.array(list(map(np.array, annot.index.str.split(\"_\"))))[:, 2]\n",
    "    annot['genes_cleaned'] = annot['genes_cleaned'].str.replace(\"-\", \"x-\")\n",
    "    \n",
    "    tmp = adata.obs.merge(annot, how='left', on='genes_cleaned')\n",
    "    tmp.drop_duplicates('genes_cleaned', inplace=True)\n",
    "    tmp.set_index('genes_cleaned', drop=True, inplace=True)\n",
    "\n",
    "    adata.obs = tmp\n",
    "    adata.obs['Reprogramming Day'] = adata.obs['Reprogramming Day'].astype('category')\n",
    "    \n",
    "    \n",
    "def select_root_cell(adata):\n",
    "    obs = adata.obs['Reprogramming Day']\n",
    "    min_val = np.nanmin(obs.cat.categories)\n",
    "    \n",
    "    return obs[obs == min_val].index[0]"
   ]
  },
  {
   "cell_type": "code",
   "execution_count": 6,
   "metadata": {
    "ExecuteTime": {
     "end_time": "2020-10-02T15:35:44.207661Z",
     "start_time": "2020-10-02T15:35:44.173805Z"
    }
   },
   "outputs": [],
   "source": [
    "def load_cellrank_final_states(adata, data, size, col):\n",
    "    try:\n",
    "        index = clean_orig_names(data[size][col]['main_states'].index)\n",
    "        valid_ixs = np.isin(index, adata.obs.index)\n",
    "\n",
    "        x = data[size][col]['lin_probs'][valid_ixs, :]\n",
    "        x = pd.DataFrame(x, index=index[valid_ixs])\n",
    "\n",
    "        if len(index) < 3:\n",
    "            return None\n",
    "\n",
    "        ixs = []\n",
    "        for lin in range(x.shape[1]):  # be extra careful\n",
    "            y = x[~np.isin(x.index, ixs)]\n",
    "\n",
    "            assert len(y) + len(ixs) == x.shape[0], \"Sanity check failed\"\n",
    "\n",
    "            # we select the most likely cell from each terminal state\n",
    "            ix = np.argmax(y.values[:, lin])\n",
    "            ixs.append(y.index[ix])\n",
    "\n",
    "        return ixs\n",
    "    except Exception as e:\n",
    "        print(f\"Unexpected error: `{e}`.\")\n",
    "        return None"
   ]
  },
  {
   "cell_type": "code",
   "execution_count": 10,
   "metadata": {
    "ExecuteTime": {
     "end_time": "2020-10-02T15:36:24.424221Z",
     "start_time": "2020-10-02T15:36:24.415302Z"
    }
   },
   "outputs": [],
   "source": [
    "def palantir_preprocess(adata):\n",
    "    sc.pp.filter_genes(adata, min_cells=10)\n",
    "    sc.pp.normalize_total(adata)\n",
    "    sc.pp.log1p(adata)\n",
    "    sc.pp.highly_variable_genes(adata, flavor='cell_ranger', n_top_genes=1500)\n",
    "    \n",
    "    print(\"Running PCA\")\n",
    "    n_comps = 300\n",
    "    sc.pp.pca(adata, use_highly_variable=True, n_comps=n_comps)\n",
    "\n",
    "    print(\"Diff maps\")\n",
    "    dm_res = palantir.utils.run_diffusion_maps(pd.DataFrame(adata.obsm['X_pca'][:, :n_comps],\n",
    "                                                            index=adata.obs_names))\n",
    "    \n",
    "    print(\"MS space\")\n",
    "    ms_data = palantir.utils.determine_multiscale_space(dm_res)\n",
    "    \n",
    "    return ms_data"
   ]
  },
  {
   "cell_type": "code",
   "execution_count": 11,
   "metadata": {
    "ExecuteTime": {
     "end_time": "2020-10-02T15:36:24.978006Z",
     "start_time": "2020-10-02T15:36:24.940648Z"
    }
   },
   "outputs": [],
   "source": [
    "def benchmark_palantir(adata, dfs, annot, final_states_path):\n",
    "    res = defaultdict(lambda: defaultdict(lambda: defaultdict(list)))\n",
    "    run_palantir = ul.timeit(palantir.core.run_palantir)\n",
    "    \n",
    "    with open(final_states_path, 'rb') as fin:\n",
    "        # load the terminal states from cellrank\n",
    "        fs_data = pickle.load(fin)\n",
    "    \n",
    "    for size, split in dfs.items():\n",
    "        for col in split.columns:\n",
    "            try:\n",
    "                print(f\"Subsetting data to `{size}`, split `{col}`.\")\n",
    "                ixs = split[col].values\n",
    "                bdata = adata[ixs].copy()\n",
    "                add_annotations(bdata, annot)\n",
    "                \n",
    "                assert bdata.n_obs == size\n",
    "                \n",
    "                root_cell = select_root_cell(bdata)\n",
    "                final_states = load_cellrank_final_states(bdata, fs_data, size, col)\n",
    "                                \n",
    "                print(\"Preprocessing\")\n",
    "                ms_data = palantir_preprocess(bdata)\n",
    "                \n",
    "                \n",
    "                print(f\"Running with no terminal states, root_cell=`{root_cell}`\")\n",
    "                _, time_no_ts = run_palantir(ms_data,\n",
    "                                             root_cell,\n",
    "                                             terminal_states=None,\n",
    "                                             knn=30,\n",
    "                                             num_waypoints=int(ceil(size * 0.15)),\n",
    "                                             n_jobs=-1,\n",
    "                                             scale_components=False,\n",
    "                                             use_early_cell_as_start=True)\n",
    "                \n",
    "                res[size][col]['core_no_ts'] = time_no_ts\n",
    "                \n",
    "                if final_states is None:\n",
    "                    print(\"No final states found, skipping\")\n",
    "                    continue\n",
    "                elif root_cell in final_states:\n",
    "                    print(\"Root cell is in final states, skipping\")\n",
    "                    continue\n",
    "                                  \n",
    "                # this is the data we're using the figures\n",
    "                print(f\"Running with CellRank terminal states `root_cell={root_cell}` and \"\n",
    "                      f\"`final_states={final_states}`\")\n",
    "                _, time_ts = run_palantir(ms_data,\n",
    "                                          root_cell,\n",
    "                                          terminal_states=final_states,\n",
    "                                          knn=30,\n",
    "                                          num_waypoints=int(ceil(size * 0.15)),\n",
    "                                          n_jobs=-1,\n",
    "                                          scale_components=False,\n",
    "                                          use_early_cell_as_start=True)\n",
    "                \n",
    "                res[size][col]['core_ts'] = time_ts\n",
    "                ul.save_results(res, DATA_DIR / \"runtime_analysis\" / \"palantir.pickle\")\n",
    "            except Exception as e:\n",
    "                print(f\"Unable to run `Palantir` with size `{size}` on split `{col}`. Reason: `{e}`.\")\n",
    "                continue\n",
    "                \n",
    "    return res"
   ]
  },
  {
   "cell_type": "markdown",
   "metadata": {},
   "source": [
    "# Run the benchmarks"
   ]
  },
  {
   "cell_type": "code",
   "execution_count": null,
   "metadata": {
    "ExecuteTime": {
     "start_time": "2020-07-18T05:48:48.519Z"
    },
    "collapsed": true
   },
   "outputs": [
    {
     "name": "stdout",
     "output_type": "stream",
     "text": [
      "Subsetting data to `70000`, split `0`.\n",
      "Preprocessing\n",
      "Running PCA\n",
      "Diff maps\n",
      "Determing nearest neighbor graph...\n",
      "MS space\n",
      "Running with no terminal states, root_cell=`GTCCTCATCCTGTAGAx-1`\n",
      "Sampling and flocking waypoints...\n",
      "Time for determining waypoints: 9.7591912428538 minutes\n",
      "Determining pseudotime...\n",
      "Shortest path distances using 30-nearest neighbor graph...\n",
      "Time for shortest paths: 16.08590335448583 minutes\n",
      "Iteratively refining the pseudotime...\n",
      "Correlation at iteration 1: 1.0000\n",
      "Entropy and branch probabilities...\n",
      "Markov chain construction...\n",
      "Identification of terminal states...\n",
      "Computing fundamental matrix and absorption probabilities...\n",
      "Project results to all cells...\n",
      "Running with CellRank terminal states `root_cell=GTCCTCATCCTGTAGAx-1` and `final_states=['GGTGTTAGTCCATGATx-13', 'CGAGAAGGTGTGTGCCx-8', 'CTCACACTCCACGACGx-5']`\n",
      "Sampling and flocking waypoints...\n",
      "Time for determining waypoints: 9.190261618296306 minutes\n",
      "Determining pseudotime...\n",
      "Shortest path distances using 30-nearest neighbor graph...\n",
      "Time for shortest paths: 16.994401156902313 minutes\n",
      "Iteratively refining the pseudotime...\n",
      "Correlation at iteration 1: 1.0000\n",
      "Entropy and branch probabilities...\n",
      "Markov chain construction...\n",
      "Computing fundamental matrix and absorption probabilities...\n",
      "Project results to all cells...\n",
      "Subsetting data to `70000`, split `1`.\n",
      "Preprocessing\n",
      "Running PCA\n",
      "Diff maps\n",
      "Determing nearest neighbor graph...\n",
      "MS space\n",
      "Running with no terminal states, root_cell=`TTAGGACTCCGTAGGCx-1`\n",
      "Sampling and flocking waypoints...\n",
      "Time for determining waypoints: 9.713114325205485 minutes\n",
      "Determining pseudotime...\n",
      "Shortest path distances using 30-nearest neighbor graph...\n",
      "Time for shortest paths: 19.17397501071294 minutes\n",
      "Iteratively refining the pseudotime...\n",
      "Correlation at iteration 1: 1.0000\n",
      "Entropy and branch probabilities...\n",
      "Markov chain construction...\n",
      "Identification of terminal states...\n",
      "Computing fundamental matrix and absorption probabilities...\n",
      "Project results to all cells...\n",
      "Running with CellRank terminal states `root_cell=TTAGGACTCCGTAGGCx-1` and `final_states=['CCTCTGAAGCCTATGTx-13', 'ATAGACCTCCACGACGx-14', 'ATGAGGGCAGTATAAGx-5']`\n",
      "Sampling and flocking waypoints...\n",
      "Time for determining waypoints: 9.923503617445627 minutes\n",
      "Determining pseudotime...\n",
      "Shortest path distances using 30-nearest neighbor graph...\n",
      "Time for shortest paths: 21.450096340974174 minutes\n",
      "Iteratively refining the pseudotime...\n"
     ]
    }
   ],
   "source": [
    "res_pala = benchmark_palantir(adata, dfs, annot,\n",
    "                              final_states_path=DATA_DIR / \"runtime_analysis\" / \"gpcca.pickle\")"
   ]
  },
  {
   "cell_type": "markdown",
   "metadata": {},
   "source": [
    "## Save the results"
   ]
  },
  {
   "cell_type": "code",
   "execution_count": null,
   "metadata": {
    "ExecuteTime": {
     "start_time": "2020-07-18T05:48:54.135Z"
    }
   },
   "outputs": [],
   "source": [
    "ul.save_results(res_pala, DATA_DIR / \"runtime_analysis\" / \"palantir.pickle\")"
   ]
  }
 ],
 "metadata": {
  "kernelspec": {
   "display_name": "cellrank",
   "language": "python",
   "name": "cellrank"
  },
  "language_info": {
   "codemirror_mode": {
    "name": "ipython",
    "version": 3
   },
   "file_extension": ".py",
   "mimetype": "text/x-python",
   "name": "python",
   "nbconvert_exporter": "python",
   "pygments_lexer": "ipython3",
   "version": "3.8.5"
  },
  "toc": {
   "base_numbering": 1,
   "nav_menu": {},
   "number_sections": true,
   "sideBar": true,
   "skip_h1_title": false,
   "title_cell": "Table of Contents",
   "title_sidebar": "Contents",
   "toc_cell": false,
   "toc_position": {},
   "toc_section_display": true,
   "toc_window_display": false
  },
  "varInspector": {
   "cols": {
    "lenName": 16,
    "lenType": 16,
    "lenVar": 40
   },
   "kernels_config": {
    "python": {
     "delete_cmd_postfix": "",
     "delete_cmd_prefix": "del ",
     "library": "var_list.py",
     "varRefreshCmd": "print(var_dic_list())"
    },
    "r": {
     "delete_cmd_postfix": ") ",
     "delete_cmd_prefix": "rm(",
     "library": "var_list.r",
     "varRefreshCmd": "cat(var_dic_list()) "
    }
   },
   "types_to_exclude": [
    "module",
    "function",
    "builtin_function_or_method",
    "instance",
    "_Feature"
   ],
   "window_display": false
  }
 },
 "nbformat": 4,
 "nbformat_minor": 4
}

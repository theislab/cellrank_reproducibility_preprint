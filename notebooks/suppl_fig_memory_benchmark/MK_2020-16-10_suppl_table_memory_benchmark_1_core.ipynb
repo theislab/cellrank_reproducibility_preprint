{
 "cells": [
  {
   "cell_type": "markdown",
   "metadata": {},
   "source": [
    "Fig. 5: Memory performance comparison (1 core)\n",
    "----\n",
    "\n",
    "In this notebook, we produce Suppl. Tab. 3 displaying the single-core memory performance differences\n",
    "between CellRank and Palantir on 100k cells."
   ]
  },
  {
   "cell_type": "markdown",
   "metadata": {},
   "source": [
    "# Preliminaries"
   ]
  },
  {
   "cell_type": "markdown",
   "metadata": {},
   "source": [
    "## Dependencies"
   ]
  },
  {
   "cell_type": "markdown",
   "metadata": {
    "ExecuteTime": {
     "end_time": "2020-10-16T14:56:16.213937Z",
     "start_time": "2020-10-16T14:56:16.207025Z"
    }
   },
   "source": [
    "1. Please consult the [analysis_files/README.md](analysis_files/README.md) on how to run the memory performance benchmarks."
   ]
  },
  {
   "cell_type": "markdown",
   "metadata": {},
   "source": [
    "## Import packages"
   ]
  },
  {
   "cell_type": "code",
   "execution_count": 2,
   "metadata": {
    "ExecuteTime": {
     "end_time": "2020-10-16T14:56:33.828162Z",
     "start_time": "2020-10-16T14:56:33.448212Z"
    }
   },
   "outputs": [],
   "source": [
    "# import standard packages\n",
    "from pathlib import Path\n",
    "import pickle\n",
    "import os\n",
    "import sys\n",
    "\n",
    "import numpy as np\n",
    "import pandas as pd"
   ]
  },
  {
   "cell_type": "markdown",
   "metadata": {},
   "source": [
    "## Set up paths"
   ]
  },
  {
   "cell_type": "code",
   "execution_count": 3,
   "metadata": {
    "ExecuteTime": {
     "end_time": "2020-10-16T14:56:41.972240Z",
     "start_time": "2020-10-16T14:56:41.965697Z"
    }
   },
   "outputs": [],
   "source": [
    "sys.path.insert(0, \"../..\")  # this depends on the notebook depth and must be adapted per notebook\n",
    "\n",
    "from paths import DATA_DIR, FIG_DIR"
   ]
  },
  {
   "cell_type": "markdown",
   "metadata": {},
   "source": [
    "## Set global parameters"
   ]
  },
  {
   "cell_type": "code",
   "execution_count": 4,
   "metadata": {
    "ExecuteTime": {
     "end_time": "2020-10-16T14:57:02.401497Z",
     "start_time": "2020-10-16T14:57:02.396807Z"
    }
   },
   "outputs": [],
   "source": [
    "root =  DATA_DIR / 'benchmarking' / 'memory_analysis_1_core'\n",
    "palantir_path = root / \"palantir\"\n",
    "cellrank_path = root / \"gpcca\""
   ]
  },
  {
   "cell_type": "markdown",
   "metadata": {},
   "source": [
    "## Load the data"
   ]
  },
  {
   "cell_type": "code",
   "execution_count": 3,
   "metadata": {
    "ExecuteTime": {
     "end_time": "2020-10-16T07:25:23.375558Z",
     "start_time": "2020-10-16T07:25:22.925727Z"
    }
   },
   "outputs": [
    {
     "name": "stdout",
     "output_type": "stream",
     "text": [
      "100000_8.pickle\n",
      "100000_0.pickle\n",
      "100000_9.pickle\n",
      "100000_6.pickle\n",
      "100000_2.pickle\n",
      "100000_3.pickle\n",
      "100000_4.pickle\n",
      "100000_5.pickle\n",
      "100000_7.pickle\n",
      "100000_1.pickle\n"
     ]
    }
   ],
   "source": [
    "res = {'CellRank (lin. probs.)': [], 'CellRank (macrostates)': [], 'Palantir': []}\n",
    "\n",
    "for fname in os.listdir(palantir_path):\n",
    "    with open(palantir_path / fname, 'rb') as fin:\n",
    "        data = pickle.load(fin)\n",
    "    res['Palantir'].append(max(data) / 1024)\n",
    "    \n",
    "for fname in os.listdir(cellrank_path):\n",
    "    if not fname.endswith(\".pickle\"):\n",
    "        continue\n",
    "    with open(cellrank_path / fname, 'rb') as fin:\n",
    "        data = pickle.load(fin)\n",
    "    print(fname)\n",
    "    # add macrostates and kernel memory together\n",
    "    res['CellRank (macrostates)'].append((max(data['macro_mem']) + max(data['kernel_mem'])) / 1024)\n",
    "    res['CellRank (lin. probs.)'].append(max(data['ap_mem']) / 1024)"
   ]
  },
  {
   "cell_type": "markdown",
   "metadata": {},
   "source": [
    "### Clean the index"
   ]
  },
  {
   "cell_type": "code",
   "execution_count": 5,
   "metadata": {
    "ExecuteTime": {
     "end_time": "2020-10-16T07:25:23.426807Z",
     "start_time": "2020-10-16T07:25:23.406128Z"
    }
   },
   "outputs": [
    {
     "data": {
      "text/html": [
       "<div>\n",
       "<style scoped>\n",
       "    .dataframe tbody tr th:only-of-type {\n",
       "        vertical-align: middle;\n",
       "    }\n",
       "\n",
       "    .dataframe tbody tr th {\n",
       "        vertical-align: top;\n",
       "    }\n",
       "\n",
       "    .dataframe thead th {\n",
       "        text-align: right;\n",
       "    }\n",
       "</style>\n",
       "<table border=\"1\" class=\"dataframe\">\n",
       "  <thead>\n",
       "    <tr style=\"text-align: right;\">\n",
       "      <th></th>\n",
       "      <th>CellRank (lin. probs.)</th>\n",
       "      <th>CellRank (macrostates)</th>\n",
       "      <th>Palantir</th>\n",
       "    </tr>\n",
       "    <tr>\n",
       "      <th>subset</th>\n",
       "      <th></th>\n",
       "      <th></th>\n",
       "      <th></th>\n",
       "    </tr>\n",
       "  </thead>\n",
       "  <tbody>\n",
       "    <tr>\n",
       "      <th>1</th>\n",
       "      <td>14.16</td>\n",
       "      <td>22.52</td>\n",
       "      <td>89.37</td>\n",
       "    </tr>\n",
       "    <tr>\n",
       "      <th>2</th>\n",
       "      <td>14.19</td>\n",
       "      <td>22.50</td>\n",
       "      <td>78.21</td>\n",
       "    </tr>\n",
       "    <tr>\n",
       "      <th>3</th>\n",
       "      <td>14.17</td>\n",
       "      <td>22.49</td>\n",
       "      <td>88.45</td>\n",
       "    </tr>\n",
       "    <tr>\n",
       "      <th>4</th>\n",
       "      <td>14.16</td>\n",
       "      <td>22.51</td>\n",
       "      <td>80.48</td>\n",
       "    </tr>\n",
       "    <tr>\n",
       "      <th>5</th>\n",
       "      <td>14.30</td>\n",
       "      <td>22.65</td>\n",
       "      <td>79.80</td>\n",
       "    </tr>\n",
       "    <tr>\n",
       "      <th>6</th>\n",
       "      <td>14.27</td>\n",
       "      <td>22.66</td>\n",
       "      <td>79.34</td>\n",
       "    </tr>\n",
       "    <tr>\n",
       "      <th>7</th>\n",
       "      <td>14.27</td>\n",
       "      <td>22.62</td>\n",
       "      <td>80.37</td>\n",
       "    </tr>\n",
       "    <tr>\n",
       "      <th>8</th>\n",
       "      <td>14.25</td>\n",
       "      <td>22.56</td>\n",
       "      <td>80.55</td>\n",
       "    </tr>\n",
       "    <tr>\n",
       "      <th>9</th>\n",
       "      <td>14.16</td>\n",
       "      <td>22.54</td>\n",
       "      <td>88.33</td>\n",
       "    </tr>\n",
       "    <tr>\n",
       "      <th>10</th>\n",
       "      <td>14.24</td>\n",
       "      <td>22.55</td>\n",
       "      <td>80.13</td>\n",
       "    </tr>\n",
       "  </tbody>\n",
       "</table>\n",
       "</div>"
      ],
      "text/plain": [
       "        CellRank (lin. probs.)  CellRank (macrostates)  Palantir\n",
       "subset                                                          \n",
       "1                        14.16                   22.52     89.37\n",
       "2                        14.19                   22.50     78.21\n",
       "3                        14.17                   22.49     88.45\n",
       "4                        14.16                   22.51     80.48\n",
       "5                        14.30                   22.65     79.80\n",
       "6                        14.27                   22.66     79.34\n",
       "7                        14.27                   22.62     80.37\n",
       "8                        14.25                   22.56     80.55\n",
       "9                        14.16                   22.54     88.33\n",
       "10                       14.24                   22.55     80.13"
      ]
     },
     "execution_count": 5,
     "metadata": {},
     "output_type": "execute_result"
    }
   ],
   "source": [
    "df = pd.DataFrame(res)\n",
    "df.index = np.arange(1, 11)\n",
    "df.index.name = 'subset'\n",
    "df.round(2)"
   ]
  },
  {
   "cell_type": "markdown",
   "metadata": {},
   "source": [
    "# Generate the table"
   ]
  },
  {
   "cell_type": "markdown",
   "metadata": {},
   "source": [
    "## Calculate mean and standard deviation across the splits"
   ]
  },
  {
   "cell_type": "code",
   "execution_count": 7,
   "metadata": {
    "ExecuteTime": {
     "end_time": "2020-10-16T07:25:23.448929Z",
     "start_time": "2020-10-16T07:25:23.434276Z"
    }
   },
   "outputs": [
    {
     "data": {
      "text/html": [
       "<div>\n",
       "<style scoped>\n",
       "    .dataframe tbody tr th:only-of-type {\n",
       "        vertical-align: middle;\n",
       "    }\n",
       "\n",
       "    .dataframe tbody tr th {\n",
       "        vertical-align: top;\n",
       "    }\n",
       "\n",
       "    .dataframe thead th {\n",
       "        text-align: right;\n",
       "    }\n",
       "</style>\n",
       "<table border=\"1\" class=\"dataframe\">\n",
       "  <thead>\n",
       "    <tr style=\"text-align: right;\">\n",
       "      <th></th>\n",
       "      <th>CellRank (lin. probs.) mean</th>\n",
       "      <th>CellRank (macrostates) mean</th>\n",
       "      <th>Palantir mean</th>\n",
       "      <th>CellRank (lin. probs.) std</th>\n",
       "      <th>CellRank (macrostates) std</th>\n",
       "      <th>Palantir std</th>\n",
       "    </tr>\n",
       "    <tr>\n",
       "      <th>#cells (thousands)</th>\n",
       "      <th></th>\n",
       "      <th></th>\n",
       "      <th></th>\n",
       "      <th></th>\n",
       "      <th></th>\n",
       "      <th></th>\n",
       "    </tr>\n",
       "  </thead>\n",
       "  <tbody>\n",
       "    <tr>\n",
       "      <th>100000</th>\n",
       "      <td>14.22</td>\n",
       "      <td>22.56</td>\n",
       "      <td>82.5</td>\n",
       "      <td>0.05</td>\n",
       "      <td>0.06</td>\n",
       "      <td>4.35</td>\n",
       "    </tr>\n",
       "  </tbody>\n",
       "</table>\n",
       "</div>"
      ],
      "text/plain": [
       "                    CellRank (lin. probs.) mean  CellRank (macrostates) mean  \\\n",
       "#cells (thousands)                                                             \n",
       "100000                                    14.22                        22.56   \n",
       "\n",
       "                    Palantir mean  CellRank (lin. probs.) std  \\\n",
       "#cells (thousands)                                              \n",
       "100000                       82.5                        0.05   \n",
       "\n",
       "                    CellRank (macrostates) std  Palantir std  \n",
       "#cells (thousands)                                            \n",
       "100000                                    0.06          4.35  "
      ]
     },
     "execution_count": 7,
     "metadata": {},
     "output_type": "execute_result"
    }
   ],
   "source": [
    "tall_df = df.melt(value_vars=df.columns, var_name='algorithm', value_name='memory')\n",
    "\n",
    "mean = tall_df.groupby('algorithm').mean().T\n",
    "mean.index.name = 'size'\n",
    "mean.columns = [f\"{c} mean\" for c in mean.columns]\n",
    "\n",
    "std = tall_df.groupby('algorithm').std().T\n",
    "std.index.name = 'size'\n",
    "std.columns = [f\"{c} std\" for c in std.columns]\n",
    "\n",
    "stats = pd.concat([mean, std], axis=1)\n",
    "stats.index = [100_000]\n",
    "stats.index.name = '#cells (thousands)'\n",
    "stats = stats.round(2)\n",
    "stats"
   ]
  },
  {
   "cell_type": "markdown",
   "metadata": {},
   "source": [
    "## Reorder the dataframe"
   ]
  },
  {
   "cell_type": "code",
   "execution_count": 8,
   "metadata": {
    "ExecuteTime": {
     "end_time": "2020-10-16T07:25:23.452989Z",
     "start_time": "2020-10-16T07:25:23.451059Z"
    }
   },
   "outputs": [],
   "source": [
    "order = ['CellRank (macrostates)', 'CellRank (lin. probs.)', 'Palantir']"
   ]
  },
  {
   "cell_type": "code",
   "execution_count": 9,
   "metadata": {
    "ExecuteTime": {
     "end_time": "2020-10-16T07:25:23.461829Z",
     "start_time": "2020-10-16T07:25:23.454557Z"
    }
   },
   "outputs": [
    {
     "data": {
      "text/html": [
       "<div>\n",
       "<style scoped>\n",
       "    .dataframe tbody tr th:only-of-type {\n",
       "        vertical-align: middle;\n",
       "    }\n",
       "\n",
       "    .dataframe tbody tr th {\n",
       "        vertical-align: top;\n",
       "    }\n",
       "\n",
       "    .dataframe thead th {\n",
       "        text-align: right;\n",
       "    }\n",
       "</style>\n",
       "<table border=\"1\" class=\"dataframe\">\n",
       "  <thead>\n",
       "    <tr style=\"text-align: right;\">\n",
       "      <th></th>\n",
       "      <th>CellRank (macrostates) mean</th>\n",
       "      <th>CellRank (macrostates) std</th>\n",
       "      <th>CellRank (lin. probs.) mean</th>\n",
       "      <th>CellRank (lin. probs.) std</th>\n",
       "      <th>Palantir mean</th>\n",
       "      <th>Palantir std</th>\n",
       "    </tr>\n",
       "    <tr>\n",
       "      <th>#cells (thousands)</th>\n",
       "      <th></th>\n",
       "      <th></th>\n",
       "      <th></th>\n",
       "      <th></th>\n",
       "      <th></th>\n",
       "      <th></th>\n",
       "    </tr>\n",
       "  </thead>\n",
       "  <tbody>\n",
       "    <tr>\n",
       "      <th>100000</th>\n",
       "      <td>22.56</td>\n",
       "      <td>0.06</td>\n",
       "      <td>14.22</td>\n",
       "      <td>0.05</td>\n",
       "      <td>82.5</td>\n",
       "      <td>4.35</td>\n",
       "    </tr>\n",
       "  </tbody>\n",
       "</table>\n",
       "</div>"
      ],
      "text/plain": [
       "                    CellRank (macrostates) mean  CellRank (macrostates) std  \\\n",
       "#cells (thousands)                                                            \n",
       "100000                                    22.56                        0.06   \n",
       "\n",
       "                    CellRank (lin. probs.) mean  CellRank (lin. probs.) std  \\\n",
       "#cells (thousands)                                                            \n",
       "100000                                    14.22                        0.05   \n",
       "\n",
       "                    Palantir mean  Palantir std  \n",
       "#cells (thousands)                               \n",
       "100000                       82.5          4.35  "
      ]
     },
     "execution_count": 9,
     "metadata": {},
     "output_type": "execute_result"
    }
   ],
   "source": [
    "stats = stats[[f\"{c} {s}\" for c in order for s in ('mean', 'std')]]\n",
    "stats"
   ]
  },
  {
   "cell_type": "markdown",
   "metadata": {},
   "source": [
    "## Save the results"
   ]
  },
  {
   "cell_type": "code",
   "execution_count": 10,
   "metadata": {
    "ExecuteTime": {
     "end_time": "2020-10-16T07:25:23.467180Z",
     "start_time": "2020-10-16T07:25:23.462874Z"
    }
   },
   "outputs": [],
   "source": [
    "stats.to_csv(DATA_DIR / \"benchmarking_results\" / \"suppl_tab_memory_benchmark_1_core\" / \"statistics.csv\")"
   ]
  }
 ],
 "metadata": {
  "kernelspec": {
   "display_name": "cellrank",
   "language": "python",
   "name": "cellrank"
  },
  "language_info": {
   "codemirror_mode": {
    "name": "ipython",
    "version": 3
   },
   "file_extension": ".py",
   "mimetype": "text/x-python",
   "name": "python",
   "nbconvert_exporter": "python",
   "pygments_lexer": "ipython3",
   "version": "3.8.5"
  },
  "toc": {
   "base_numbering": 1,
   "nav_menu": {},
   "number_sections": true,
   "sideBar": true,
   "skip_h1_title": false,
   "title_cell": "Table of Contents",
   "title_sidebar": "Contents",
   "toc_cell": false,
   "toc_position": {},
   "toc_section_display": true,
   "toc_window_display": false
  },
  "varInspector": {
   "cols": {
    "lenName": 16,
    "lenType": 16,
    "lenVar": 40
   },
   "kernels_config": {
    "python": {
     "delete_cmd_postfix": "",
     "delete_cmd_prefix": "del ",
     "library": "var_list.py",
     "varRefreshCmd": "print(var_dic_list())"
    },
    "r": {
     "delete_cmd_postfix": ") ",
     "delete_cmd_prefix": "rm(",
     "library": "var_list.r",
     "varRefreshCmd": "cat(var_dic_list()) "
    }
   },
   "types_to_exclude": [
    "module",
    "function",
    "builtin_function_or_method",
    "instance",
    "_Feature"
   ],
   "window_display": false
  }
 },
 "nbformat": 4,
 "nbformat_minor": 4
}
